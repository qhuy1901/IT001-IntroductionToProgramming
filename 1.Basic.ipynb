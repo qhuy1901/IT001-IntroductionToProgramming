{
  "nbformat": 4,
  "nbformat_minor": 0,
  "metadata": {
    "colab": {
      "name": "Basic.ipynb",
      "provenance": [],
      "authorship_tag": "ABX9TyNqVyPrp300ceLRuczicujY"
    },
    "kernelspec": {
      "name": "python3",
      "display_name": "Python 3"
    }
  },
  "cells": [
    {
      "cell_type": "markdown",
      "metadata": {
        "id": "Eun8NgvWsjmW"
      },
      "source": [
        "# **Introductory exercises**\r\n",
        "\r\n",
        "\r\n",
        " **References:**\r\n",
        " \r\n",
        "[1] \"Built-in Functions — Python 3.9.1 documentation\"\r\n",
        "https://docs.python.org/3/library/functions.html (accessed Jan. 30, 2021).\r\n",
        "\r\n",
        "[2] \"iArunava/Python-TheNoTheoryGuide\" https://github.com/iArunava/Python-TheNoTheoryGuide (accessed Feb. 4, 2021)."
      ]
    },
    {
      "cell_type": "markdown",
      "metadata": {
        "id": "LhXfR30Os0PO"
      },
      "source": [
        "**Question 1:** Calculate $S (n) = 1 + 2 + 3 + ... + n$"
      ]
    },
    {
      "cell_type": "code",
      "metadata": {
        "colab": {
          "base_uri": "https://localhost:8080/"
        },
        "id": "3C3PhjTBtIFY",
        "outputId": "1f48c13a-f7d5-4d3f-c433-3803ba91d279"
      },
      "source": [
        "#Option 1\r\n",
        "n = int(input('Enter n = '))\r\n",
        "\r\n",
        "Sn = 0\r\n",
        "for i in range(1, n + 1):\r\n",
        "  Sn += i\r\n",
        "\r\n",
        "print('S(n) =', Sn)"
      ],
      "execution_count": null,
      "outputs": [
        {
          "output_type": "stream",
          "text": [
            "Enter n = 4\n",
            "S(n) = 10\n"
          ],
          "name": "stdout"
        }
      ]
    },
    {
      "cell_type": "code",
      "metadata": {
        "colab": {
          "base_uri": "https://localhost:8080/"
        },
        "id": "fGGYTsXc0IM_",
        "outputId": "5d481125-ee52-46f3-e566-da8b32926013"
      },
      "source": [
        "#Option 2: Using linear recursion\r\n",
        "n = int(input('Enter n = '))\r\n",
        "\r\n",
        "def getSum(n):\r\n",
        "    if n == 0:\r\n",
        "      return 0  #stopping condition \r\n",
        "    return getSum(n - 1) + n  #S(n) = S(n - 1) + n\r\n",
        "\r\n",
        "print('S(n) =', getSum(n))"
      ],
      "execution_count": null,
      "outputs": [
        {
          "output_type": "stream",
          "text": [
            "Enter n = 4\n",
            "S(n) = 10\n"
          ],
          "name": "stdout"
        }
      ]
    },
    {
      "cell_type": "code",
      "metadata": {
        "colab": {
          "base_uri": "https://localhost:8080/"
        },
        "id": "WJlByKez6d4R",
        "outputId": "3a4435a2-372a-4fac-fce9-f86f0c9def99"
      },
      "source": [
        "#Option 3: Using list and sum function\r\n",
        "n = int(input('Enter n = '))\r\n",
        "\r\n",
        "Sn = sum([i for i in range(n + 1)])\r\n",
        "\r\n",
        "print('S(n) =', Sn)"
      ],
      "execution_count": null,
      "outputs": [
        {
          "output_type": "stream",
          "text": [
            "Enter n = 4\n"
          ],
          "name": "stdout"
        },
        {
          "output_type": "execute_result",
          "data": {
            "text/plain": [
              "10"
            ]
          },
          "metadata": {
            "tags": []
          },
          "execution_count": 2
        }
      ]
    },
    {
      "cell_type": "markdown",
      "metadata": {
        "id": "HkuzAWPftf35"
      },
      "source": [
        "**Question 2:** Calculates $S(n) = 1^2 + 2^2 + 3^2 + ... + n^2$\r\n",
        "\r\n"
      ]
    },
    {
      "cell_type": "code",
      "metadata": {
        "colab": {
          "base_uri": "https://localhost:8080/"
        },
        "id": "r4PXthHmvJzA",
        "outputId": "37ba5f89-0746-4137-9c1e-337b86262b6d"
      },
      "source": [
        "n = int(input('Enter n = '))\r\n",
        "\r\n",
        "Sn = 0\r\n",
        "for i in range(1, n + 1):\r\n",
        "  Sn += i**2\r\n",
        "\r\n",
        "print(Sn)"
      ],
      "execution_count": null,
      "outputs": [
        {
          "output_type": "stream",
          "text": [
            "Enter n = 3\n",
            "14\n"
          ],
          "name": "stdout"
        }
      ]
    },
    {
      "cell_type": "markdown",
      "metadata": {
        "id": "YkQEjdrWwDDo"
      },
      "source": [
        "**Question 3:** Calculates $S(n) = 1 + 1/2 + 1/3 + ... + 1/n$"
      ]
    },
    {
      "cell_type": "code",
      "metadata": {
        "colab": {
          "base_uri": "https://localhost:8080/"
        },
        "id": "fQVo7prBwMCQ",
        "outputId": "c7d65ba6-cb3d-4327-b3f4-752b3d04d77b"
      },
      "source": [
        "n = int(input('Enter n = '))\r\n",
        "\r\n",
        "Sn = 0\r\n",
        "for i in range(1, n + 1):\r\n",
        "  Sn += 1/i\r\n",
        "\r\n",
        "print(round(Sn,2))"
      ],
      "execution_count": null,
      "outputs": [
        {
          "output_type": "stream",
          "text": [
            "Enter n = 3\n",
            "1.83\n"
          ],
          "name": "stdout"
        }
      ]
    },
    {
      "cell_type": "markdown",
      "metadata": {
        "id": "DajV5W6ZwaVG"
      },
      "source": [
        "**Question 4:** Calculates $S(n) = 1/2 + 1/4 + ... + 1/2n$"
      ]
    },
    {
      "cell_type": "code",
      "metadata": {
        "colab": {
          "base_uri": "https://localhost:8080/"
        },
        "id": "fAtIm1svv-Wf",
        "outputId": "b41b23b8-87db-48e4-ca28-61de3823375d"
      },
      "source": [
        "n = int(input('Enter n = '))\r\n",
        "\r\n",
        "Sn = 0\r\n",
        "for i in range(1, n + 1):\r\n",
        "  Sn += 1/(2*i)\r\n",
        "\r\n",
        "print('S(n) =', round(Sn,2))"
      ],
      "execution_count": null,
      "outputs": [
        {
          "output_type": "stream",
          "text": [
            "Enter n = 2\n",
            "S(n) = 0.75\n"
          ],
          "name": "stdout"
        }
      ]
    },
    {
      "cell_type": "markdown",
      "metadata": {
        "id": "uau56BSFw5A3"
      },
      "source": [
        "**Question 5:** Calculates $S(n) = 1 + \\frac{1}{3} + \\frac{1}{5} + … + \\frac{1}{2n + 1}$"
      ]
    },
    {
      "cell_type": "code",
      "metadata": {
        "colab": {
          "base_uri": "https://localhost:8080/"
        },
        "id": "t2uLj1QIxAYu",
        "outputId": "93c54cf4-ddf2-43f1-ae5a-2f6e58a58c09"
      },
      "source": [
        "n = int(input('Enter n = '))\r\n",
        "\r\n",
        "Sn = 0\r\n",
        "for i in range(0, n + 1):\r\n",
        "  Sn += 1 / (2 * i + 1)\r\n",
        "\r\n",
        "print('S(n) =', round(Sn, 2))"
      ],
      "execution_count": null,
      "outputs": [
        {
          "output_type": "stream",
          "text": [
            "Enter n = 3\n",
            "S(n) = 1.68\n"
          ],
          "name": "stdout"
        }
      ]
    },
    {
      "cell_type": "markdown",
      "metadata": {
        "id": "CQva2Eyex9Hm"
      },
      "source": [
        "**Question 6:** Calculates $S(n) = \\frac{1}{1*2} + \\frac{1}{1*3} +…+ \\frac{1}{n*(n + 1)}$ "
      ]
    },
    {
      "cell_type": "code",
      "metadata": {
        "colab": {
          "base_uri": "https://localhost:8080/"
        },
        "id": "Ar7x-1dsx8jv",
        "outputId": "8ea5e506-bc5c-4b34-e740-a96b882861cb"
      },
      "source": [
        "n = int(input('Enter n = '))\r\n",
        "\r\n",
        "Sn = 0\r\n",
        "for i in range(1, n + 1):\r\n",
        "    Sn += 1 / (i * (i + 1))\r\n",
        " \r\n",
        "print('S(n) =', round(Sn, 2))"
      ],
      "execution_count": null,
      "outputs": [
        {
          "output_type": "stream",
          "text": [
            "Enter n = 3\n",
            "S(n) = 0.75\n"
          ],
          "name": "stdout"
        }
      ]
    },
    {
      "cell_type": "markdown",
      "metadata": {
        "id": "DsBsTnFzqza_"
      },
      "source": [
        "**Question 9:** Calculates $T(n) = 1 ∗ 2 ∗ ... ∗ n$  ($n$ factorial)"
      ]
    },
    {
      "cell_type": "code",
      "metadata": {
        "colab": {
          "base_uri": "https://localhost:8080/"
        },
        "id": "8kpXyu3Pqzj_",
        "outputId": "38d23f46-33dc-4b8c-999b-30adbdbc8a77"
      },
      "source": [
        "from numpy import random\r\n",
        "\r\n",
        "n = random.randint(0, 10)\r\n",
        "Tn = 1\r\n",
        "for i in range(1, n + 1):\r\n",
        "    Tn *= i\r\n",
        "\r\n",
        "print('T({0}) = {1}'.format(n,Tn))"
      ],
      "execution_count": 37,
      "outputs": [
        {
          "output_type": "stream",
          "text": [
            "T(3) = 6\n"
          ],
          "name": "stdout"
        }
      ]
    },
    {
      "cell_type": "markdown",
      "metadata": {
        "id": "7qflHFEwJMAc"
      },
      "source": [
        "**Question 10:** Calculates $T(x, n) = x^n$ "
      ]
    },
    {
      "cell_type": "code",
      "metadata": {
        "colab": {
          "base_uri": "https://localhost:8080/"
        },
        "id": "U1TNYPffJMUa",
        "outputId": "51d2ce6d-5361-4800-b0e4-c08663c8fd85"
      },
      "source": [
        "x = float(input('Enter x = '))\r\n",
        "n = int(input('Enter n = '))\r\n",
        "print('T(x,n) =', round(x**n, 2))"
      ],
      "execution_count": null,
      "outputs": [
        {
          "output_type": "stream",
          "text": [
            "Enter x = 2.5\n",
            "Enter n = 10\n",
            "T(x,n) = 9536.74\n"
          ],
          "name": "stdout"
        }
      ]
    },
    {
      "cell_type": "markdown",
      "metadata": {
        "id": "QfLXveOZAVuu"
      },
      "source": [
        "**Question 12:** Calculates $S(n) = x + x^2 + x^3 + … + x^n$ "
      ]
    },
    {
      "cell_type": "code",
      "metadata": {
        "colab": {
          "base_uri": "https://localhost:8080/"
        },
        "id": "MFAzEXHSAYMz",
        "outputId": "bf39810f-3793-4fd4-8fa2-d14b19aa1ecf"
      },
      "source": [
        "x = float(input('Enter x = '))\r\n",
        "n = int(input('Enter n = '))\r\n",
        "\r\n",
        "Sn = 0\r\n",
        "for i in range(1, n + 1):\r\n",
        "    Sn += x**i\r\n",
        "\r\n",
        "print('S(n) =', round(Sn, 2))"
      ],
      "execution_count": null,
      "outputs": [
        {
          "output_type": "stream",
          "text": [
            "Enter x = 5\n",
            "Enter n = 3\n",
            "S(n) = 155.0\n"
          ],
          "name": "stdout"
        }
      ]
    },
    {
      "cell_type": "markdown",
      "metadata": {
        "id": "d2cDl1jpYkZu"
      },
      "source": [
        "**Question 17:** Calculates $S(n) = x + \\frac{x^2}{2!} + \\frac{x^3}{3!} + … + \\frac{x^n}{n!}$ "
      ]
    },
    {
      "cell_type": "code",
      "metadata": {
        "colab": {
          "base_uri": "https://localhost:8080/"
        },
        "id": "hz12X6pvY4KA",
        "outputId": "c00726e4-db92-4945-d73a-43ee7820e4e7"
      },
      "source": [
        "def getSum(n, x):\r\n",
        "    Sn = 0\r\n",
        "    factorial = 1\r\n",
        "    for i in range(1, n + 1):\r\n",
        "        factorial *= i\r\n",
        "        Sn += (x**i) / factorial\r\n",
        "    return Sn\r\n",
        "\r\n",
        "x = float(input('Enter x = '))\r\n",
        "n = int(input('Enter n = '))\r\n",
        "print(round(getSum(n, x), 2))"
      ],
      "execution_count": null,
      "outputs": [
        {
          "output_type": "stream",
          "text": [
            "Enter x = 2\n",
            "Enter n = 3\n",
            "5.33\n"
          ],
          "name": "stdout"
        }
      ]
    },
    {
      "cell_type": "markdown",
      "metadata": {
        "id": "oNJqi0bDcMb_"
      },
      "source": [
        "**Question 19:** Calculates $S(n) = 1+x + \\frac{x^3}{3!} + \\frac{x^5}{5!} + … + \\frac{x^{(2n+1)}}{(2n+1)!}$ "
      ]
    },
    {
      "cell_type": "code",
      "metadata": {
        "colab": {
          "base_uri": "https://localhost:8080/"
        },
        "id": "dMHBvyD4cMs1",
        "outputId": "bdf4a9a6-1516-4f6f-dee1-e34438cc9371"
      },
      "source": [
        "def getSum(n, x):\r\n",
        "    Sn = 1 + x\r\n",
        "    factorial = 1\r\n",
        "    for i in range(1, n + 1):\r\n",
        "        factorial *= ((2*i) * (2*i + 1))\r\n",
        "        Sn += (x**(2*i + 1)) / factorial\r\n",
        "    return Sn\r\n",
        "\r\n",
        "x = float(input('Enter x = '))\r\n",
        "n = int(input('Enter n = '))\r\n",
        "print(round(getSum(n, x), 2))"
      ],
      "execution_count": null,
      "outputs": [
        {
          "output_type": "stream",
          "text": [
            "Enter x = 3\n",
            "Enter n = 3\n",
            "10.96\n"
          ],
          "name": "stdout"
        }
      ]
    },
    {
      "cell_type": "markdown",
      "metadata": {
        "id": "vlha1UKcCb7q"
      },
      "source": [
        "**Question 20:** List all \"divisors\" of the positive interger `n`\r\n"
      ]
    },
    {
      "cell_type": "code",
      "metadata": {
        "id": "h6eNbrcDFfuT"
      },
      "source": [
        "def EnterPositiveInterger():\r\n",
        "    n = int(input('Enter n = '))\r\n",
        "    while n <= 0:\r\n",
        "        print(\"Error: {} isn't a positive interger!\".format(n))\r\n",
        "        n = int(input('Enter n = '))\r\n",
        "    return n"
      ],
      "execution_count": 24,
      "outputs": []
    },
    {
      "cell_type": "code",
      "metadata": {
        "colab": {
          "base_uri": "https://localhost:8080/"
        },
        "id": "KUCUatpwCbis",
        "outputId": "bf50bd20-a08c-4f25-e929-ef1b294c9344"
      },
      "source": [
        "def ListAllDivisors(n):\r\n",
        "    print('The divisors of', n, 'are: ',end = '')\r\n",
        "    for i in range(1, n + 1):\r\n",
        "        if n % i == 0:\r\n",
        "            print(i, end = ' ')\r\n",
        "\r\n",
        "n = int(EnterPositiveInterger())\r\n",
        "ListAllDivisors(n)"
      ],
      "execution_count": 25,
      "outputs": [
        {
          "output_type": "stream",
          "text": [
            "Enter n = -3\n",
            "Error: -3 isn't a positive interger!\n",
            "Enter n = 0\n",
            "Error: 0 isn't a positive interger!\n",
            "Enter n = 15\n",
            "The divisors of 15 are: 1 3 5 15 "
          ],
          "name": "stdout"
        }
      ]
    },
    {
      "cell_type": "markdown",
      "metadata": {
        "id": "RthKyPB8nZeg"
      },
      "source": [
        "**Question 29:** Find the largest odd divisor of a positive integer `n`. For example, `n = 100` odd divisor is `25`"
      ]
    },
    {
      "cell_type": "code",
      "metadata": {
        "colab": {
          "base_uri": "https://localhost:8080/"
        },
        "id": "GfEZbF-VnZmR",
        "outputId": "08fed158-5d7b-4825-bd9f-a2933a291d0a"
      },
      "source": [
        "def find_largest_odd_divisor(n):\r\n",
        "    largest_odd_divisor = 1\r\n",
        "    for i in range(1, n + 1):\r\n",
        "        if n % i == 0 and i % 2 != 0:\r\n",
        "            largest_odd_divisor = i\r\n",
        "    return largest_odd_divisor\r\n",
        "\r\n",
        "n = int(input())\r\n",
        "find_largest_odd_divisor(n)"
      ],
      "execution_count": 22,
      "outputs": [
        {
          "output_type": "stream",
          "text": [
            "122\n"
          ],
          "name": "stdout"
        },
        {
          "output_type": "execute_result",
          "data": {
            "text/plain": [
              "61"
            ]
          },
          "metadata": {
            "tags": []
          },
          "execution_count": 22
        }
      ]
    },
    {
      "cell_type": "markdown",
      "metadata": {
        "id": "kdKEBmJi4Dc3"
      },
      "source": [
        "**Question 31:** Given a positive integer `n`. Tests if `n` is an integer prime or not?"
      ]
    },
    {
      "cell_type": "code",
      "metadata": {
        "colab": {
          "base_uri": "https://localhost:8080/"
        },
        "id": "PT3uRdza4C_3",
        "outputId": "8c9b36dc-e580-423e-fd3d-19a2c911e5a0"
      },
      "source": [
        "#Approach 1 \r\n",
        "def isPrime(n):\r\n",
        "    if n < 2:\r\n",
        "        return False\r\n",
        "    for i in range(2, n):\r\n",
        "        if n % i == 0:\r\n",
        "            return False\r\n",
        "    return True\r\n",
        "\r\n",
        "n = int(input('Enter n = '))\r\n",
        "print(isPrime(n))"
      ],
      "execution_count": null,
      "outputs": [
        {
          "output_type": "stream",
          "text": [
            "Enter n = 11\n",
            "True\n"
          ],
          "name": "stdout"
        }
      ]
    },
    {
      "cell_type": "code",
      "metadata": {
        "colab": {
          "base_uri": "https://localhost:8080/"
        },
        "id": "CvfCLg-o5q-J",
        "outputId": "4083a0e5-346f-4ffc-8c3f-0fe581e815c4"
      },
      "source": [
        "#Approach 2 \r\n",
        "def is_prime(n):\r\n",
        "    count = 0\r\n",
        "    for i in range(1, n + 1):\r\n",
        "        if n % i == 0:\r\n",
        "            count += 1\r\n",
        "    if count == 2:\r\n",
        "        return True\r\n",
        "    return False\r\n",
        "\r\n",
        "n = int(input())\r\n",
        "print(is_prime(n))"
      ],
      "execution_count": null,
      "outputs": [
        {
          "output_type": "stream",
          "text": [
            "11\n",
            "True\n"
          ],
          "name": "stdout"
        }
      ]
    },
    {
      "cell_type": "markdown",
      "metadata": {
        "id": "Ob_pCe0VMDr7"
      },
      "source": [
        "**Question 32:** Given a positive integer `n`. Tests if `n` is an square number or not?"
      ]
    },
    {
      "cell_type": "code",
      "metadata": {
        "colab": {
          "base_uri": "https://localhost:8080/"
        },
        "id": "EBF5EFpmNEJR",
        "outputId": "4173238b-adc4-45f9-f57b-3ca93827506e"
      },
      "source": [
        "def is_square_number(n):\r\n",
        "    for i in range(1, n + 1):\r\n",
        "        if i * i == n:\r\n",
        "            return True\r\n",
        "    return False\r\n",
        "\r\n",
        "n = int(EnterPositiveInterger())\r\n",
        "print(is_square_number(n))"
      ],
      "execution_count": null,
      "outputs": [
        {
          "output_type": "stream",
          "text": [
            "Enter n = 64\n",
            "True\n"
          ],
          "name": "stdout"
        }
      ]
    },
    {
      "cell_type": "markdown",
      "metadata": {
        "id": "TGpOUlvATRxv"
      },
      "source": [
        "**Question 33:** Calculates $S(n) = \\sqrt{2+\\sqrt{2+ ...+\\sqrt{2+ \\sqrt{2}}}} $   has `n` square roots"
      ]
    },
    {
      "cell_type": "code",
      "metadata": {
        "id": "D6_tq_hCXwnx"
      },
      "source": [
        "import math"
      ],
      "execution_count": null,
      "outputs": []
    },
    {
      "cell_type": "code",
      "metadata": {
        "colab": {
          "base_uri": "https://localhost:8080/"
        },
        "id": "vdr8wyyoTRS_",
        "outputId": "be16c84a-be00-4989-8783-9cceb9077318"
      },
      "source": [
        "def getSum(n):\r\n",
        "    Sn = 0\r\n",
        "    for i in range(1, n + 1):\r\n",
        "        Sn = math.sqrt(2 + Sn)\r\n",
        "    return Sn\r\n",
        "\r\n",
        "n = int(EnterPositiveInterger())\r\n",
        "print(getSum(n))"
      ],
      "execution_count": null,
      "outputs": [
        {
          "output_type": "stream",
          "text": [
            "Enter n = 3\n",
            "1.9615705608064609\n"
          ],
          "name": "stdout"
        }
      ]
    },
    {
      "cell_type": "markdown",
      "metadata": {
        "id": "bA1jCAvi9UVw"
      },
      "source": [
        "**Question 41:** Calculates $S(n) = \\frac{1}{1 + \\frac{1}{1 + \\frac{1}{1 + ... +\\frac{1}{1+1}}}} $   has `n` square roots\r\n",
        "\r\n",
        "\r\n",
        "\r\n",
        "> `limit_denominator(max_denominator)` will find and return a fraction closest to the value of a given fraction whose denominator max_denominator is `max_denominator`\r\n",
        "\r\n"
      ]
    },
    {
      "cell_type": "code",
      "metadata": {
        "id": "qok6wFe6_2bI"
      },
      "source": [
        "from fractions import Fraction"
      ],
      "execution_count": 4,
      "outputs": []
    },
    {
      "cell_type": "code",
      "metadata": {
        "colab": {
          "base_uri": "https://localhost:8080/"
        },
        "id": "BGIrCWyL9VVp",
        "outputId": "30d0cbf2-6952-4d39-d6fc-61e63bc7cc9c"
      },
      "source": [
        "n = int(input('n = '))\r\n",
        "\r\n",
        "Sn = 0\r\n",
        "for i in range(n + 1):\r\n",
        "    Sn = 1 / (1 + Sn)\r\n",
        "\r\n",
        "Fraction(Sn).limit_denominator(1000)"
      ],
      "execution_count": 36,
      "outputs": [
        {
          "output_type": "stream",
          "text": [
            "n = 6\n"
          ],
          "name": "stdout"
        },
        {
          "output_type": "execute_result",
          "data": {
            "text/plain": [
              "Fraction(13, 21)"
            ]
          },
          "metadata": {
            "tags": []
          },
          "execution_count": 36
        }
      ]
    },
    {
      "cell_type": "markdown",
      "metadata": {
        "id": "GypeP1rGDzC8"
      },
      "source": [
        "**Question 45:** Calculate the product of the digits of the positive integer `n`."
      ]
    },
    {
      "cell_type": "code",
      "metadata": {
        "id": "2-6r6bi8ENa7",
        "colab": {
          "base_uri": "https://localhost:8080/"
        },
        "outputId": "dc1510d4-3e2b-4c71-85e2-78ec6e5d3bde"
      },
      "source": [
        "def product_of_digits(n):\r\n",
        "    result = 1\r\n",
        "    while n > 0:\r\n",
        "        result = result * (n % 10)\r\n",
        "        n //= 10\r\n",
        "    return result\r\n",
        "\r\n",
        "n = int(EnterPositiveInterger())\r\n",
        "print(product_of_digits(n))"
      ],
      "execution_count": null,
      "outputs": [
        {
          "output_type": "stream",
          "text": [
            "Enter n = 251\n",
            "10\n"
          ],
          "name": "stdout"
        }
      ]
    },
    {
      "cell_type": "markdown",
      "metadata": {
        "id": "nUkfurANq-fY"
      },
      "source": [
        "**Question 51:** Find the largest digit of a positive integer `n`"
      ]
    },
    {
      "cell_type": "code",
      "metadata": {
        "colab": {
          "base_uri": "https://localhost:8080/"
        },
        "id": "dpz5Prxxq-nI",
        "outputId": "a4beed3d-d751-4c57-d9bf-5248a35c8810"
      },
      "source": [
        "def find_largest_digit(n):\r\n",
        "    max = 0\r\n",
        "    while n > 0:\r\n",
        "        unit = n % 10\r\n",
        "        if max < unit:\r\n",
        "            max = unit\r\n",
        "        n //= 10\r\n",
        "    return max \r\n",
        "\r\n",
        "n = int(input())\r\n",
        "find_largest_digit(n)"
      ],
      "execution_count": null,
      "outputs": [
        {
          "output_type": "stream",
          "text": [
            "52492578\n"
          ],
          "name": "stdout"
        },
        {
          "output_type": "execute_result",
          "data": {
            "text/plain": [
              "9"
            ]
          },
          "metadata": {
            "tags": []
          },
          "execution_count": 21
        }
      ]
    },
    {
      "cell_type": "markdown",
      "metadata": {
        "id": "oTAG3q_72LHu"
      },
      "source": [
        "**Question 62:** Given 2 positive integers a and b. Find *the greatest common divisor (gcd)* of these 2 numbers."
      ]
    },
    {
      "cell_type": "code",
      "metadata": {
        "colab": {
          "base_uri": "https://localhost:8080/"
        },
        "id": "m5E6hvPJ2Eqm",
        "outputId": "aae19010-942a-4129-8175-abd2eba2de6c"
      },
      "source": [
        "#Option 1:\r\n",
        "def gcd(a,b):\r\n",
        "    while(a * b != 0):\r\n",
        "        if(a > b):\r\n",
        "            a = a - b\r\n",
        "        else:\r\n",
        "            b = b - a\r\n",
        "    return a + b\r\n",
        "\r\n",
        "a, b = map(int, input().split())\r\n",
        "print(gcd(a,b))"
      ],
      "execution_count": 16,
      "outputs": [
        {
          "output_type": "stream",
          "text": [
            "3 12\n",
            "3\n"
          ],
          "name": "stdout"
        }
      ]
    },
    {
      "cell_type": "code",
      "metadata": {
        "colab": {
          "base_uri": "https://localhost:8080/"
        },
        "id": "XTn5Lrv5387m",
        "outputId": "1a783622-c659-4114-f4b8-8ba4f1cd6814"
      },
      "source": [
        "#Option 2: Use recursion\r\n",
        "def gcd(a,b):\r\n",
        "    if b == 0:\r\n",
        "        return a\r\n",
        "    return gcd(b, a%b)\r\n",
        "\r\n",
        "a, b = map(int, input().split())\r\n",
        "print(gcd(a,b))"
      ],
      "execution_count": 17,
      "outputs": [
        {
          "output_type": "stream",
          "text": [
            "3 12\n",
            "3\n"
          ],
          "name": "stdout"
        }
      ]
    },
    {
      "cell_type": "code",
      "metadata": {
        "colab": {
          "base_uri": "https://localhost:8080/"
        },
        "id": "Fe0w_u1U4rE0",
        "outputId": "63aa96b1-7cc8-4361-b2dc-b70e6f6ca343"
      },
      "source": [
        "#Option 3: Use math library\r\n",
        "import math\r\n",
        "\r\n",
        "a, b = map(int, input().split())\r\n",
        "math.gcd(a,b)"
      ],
      "execution_count": 18,
      "outputs": [
        {
          "output_type": "stream",
          "text": [
            "4 18\n"
          ],
          "name": "stdout"
        },
        {
          "output_type": "execute_result",
          "data": {
            "text/plain": [
              "2"
            ]
          },
          "metadata": {
            "tags": []
          },
          "execution_count": 18
        }
      ]
    },
    {
      "cell_type": "markdown",
      "metadata": {
        "id": "kaFW_RHmtrG5"
      },
      "source": [
        "**Question 63:** Given 2 positive integers `a` and `b`. Find *the least common multiple* of these 2 numbers"
      ]
    },
    {
      "cell_type": "code",
      "metadata": {
        "id": "d4gei2xvkt0T"
      },
      "source": [
        "from numpy import random"
      ],
      "execution_count": 10,
      "outputs": []
    },
    {
      "cell_type": "code",
      "metadata": {
        "colab": {
          "base_uri": "https://localhost:8080/"
        },
        "id": "Maq2mVBqtq3S",
        "outputId": "feb3751d-14c4-4c91-f53a-ee80f64df417"
      },
      "source": [
        "def compute_gcd(x, y):\r\n",
        "   while y:\r\n",
        "       x, y = y, x % y\r\n",
        "   return x\r\n",
        "\r\n",
        "def compute_lcm(x, y):\r\n",
        "   lcm = (x * y) // compute_gcd(x,y)\r\n",
        "   return lcm\r\n",
        "\r\n",
        "a , b = map(int, random.randint(100, size = (2)))\r\n",
        "print('LCM({0},{1}) = {2}'.format(a, b, compute_lcm(a , b)))"
      ],
      "execution_count": 13,
      "outputs": [
        {
          "output_type": "stream",
          "text": [
            "LCM(94,30) = 1410\n"
          ],
          "name": "stdout"
        }
      ]
    },
    {
      "cell_type": "markdown",
      "metadata": {
        "id": "9FFem9DBttjY"
      },
      "source": [
        "**Question 65:** Solve the quadratic equation 2: $ax^2+bx+c=0$"
      ]
    },
    {
      "cell_type": "code",
      "metadata": {
        "colab": {
          "base_uri": "https://localhost:8080/"
        },
        "id": "thVHt0KLttoN",
        "outputId": "b4098205-af7a-47d8-aec2-d601739e41e2"
      },
      "source": [
        "#Option 1: \r\n",
        "import math  \r\n",
        "a, b, c = map(float, input(\"[a, b, c] = \").split())\r\n",
        "\r\n",
        "delta = b ** 2 - 4 * a * c\r\n",
        "\r\n",
        "if delta < 0:\r\n",
        "    print('The equation has no solution')\r\n",
        "elif delta == 0:\r\n",
        "    print('The equation has double solution x = ', -b / 2 * a)\r\n",
        "else:\r\n",
        "    x1 = (-b + math.sqrt(delta)) / (2 * a)\r\n",
        "    x2 = (-b - math.sqrt(delta)) / (2 * a)\r\n",
        "    print('The quation has 2 distinct solutions: [x1, x2] = [{0},{1}]'.format(x1, x2)) "
      ],
      "execution_count": null,
      "outputs": [
        {
          "output_type": "stream",
          "text": [
            "[a, b, c] = 1 -4 0\n",
            "The quation has 2 distinct solutions: [x1, x2] = [4.0,0.0]\n"
          ],
          "name": "stdout"
        }
      ]
    },
    {
      "cell_type": "code",
      "metadata": {
        "colab": {
          "base_uri": "https://localhost:8080/"
        },
        "id": "2BY4tFDhw0tE",
        "outputId": "0e0b3376-86bc-4add-fc74-fd0f8a803485"
      },
      "source": [
        "#Option 2: import complex math module  \r\n",
        "import cmath  \r\n",
        "a, b, c = map(float, input(\"[a, b, c] = \").split())\r\n",
        "\r\n",
        "delta = b ** 2 - 4 * a * c\r\n",
        "\r\n",
        "x1 = (-b + cmath.sqrt(delta)) / (2 * a) \r\n",
        "x2 = (-b - cmath.sqrt(delta)) / (2 * a) \r\n",
        "print('The solution are {0} and {1}'.format(x1, x2))   "
      ],
      "execution_count": null,
      "outputs": [
        {
          "output_type": "stream",
          "text": [
            "[a, b, c] = 5 -8 6\n",
            "The solution are (0.8+0.7483314773547882j) and (0.8-0.7483314773547882j)\n"
          ],
          "name": "stdout"
        }
      ]
    },
    {
      "cell_type": "markdown",
      "metadata": {
        "id": "zxQ0pqbumOOq"
      },
      "source": [
        "**Question 75:** Check whether a 4-byte integer is of the form $2^k$ or not"
      ]
    },
    {
      "cell_type": "code",
      "metadata": {
        "colab": {
          "base_uri": "https://localhost:8080/"
        },
        "id": "R-aDpRJVmN0t",
        "outputId": "dff10790-8ff9-4aba-a23f-8f6da99db464"
      },
      "source": [
        "def is_2k(n):\r\n",
        "    for i in range(1, n):\r\n",
        "        if 2**i == n:\r\n",
        "            return True\r\n",
        "    return False\r\n",
        "\r\n",
        "n = int(input())\r\n",
        "is_2k(n)"
      ],
      "execution_count": null,
      "outputs": [
        {
          "output_type": "stream",
          "text": [
            "128\n"
          ],
          "name": "stdout"
        },
        {
          "output_type": "execute_result",
          "data": {
            "text/plain": [
              "True"
            ]
          },
          "metadata": {
            "tags": []
          },
          "execution_count": 11
        }
      ]
    },
    {
      "cell_type": "markdown",
      "metadata": {
        "id": "607W7ljlqLrJ"
      },
      "source": [
        "**Question 76:** Check whether a 4-byte integer is of the form $3^k$ or not"
      ]
    },
    {
      "cell_type": "code",
      "metadata": {
        "colab": {
          "base_uri": "https://localhost:8080/"
        },
        "id": "gVdiiEYJqF5Y",
        "outputId": "0da9b0eb-b834-4f12-be8b-944e6631924f"
      },
      "source": [
        "def is_3k(n):\r\n",
        "    N = 1\r\n",
        "    while N < n:\r\n",
        "        N *= 3\r\n",
        "    return True if N == n else False\r\n",
        "\r\n",
        "n = int(input())\r\n",
        "is_3k(n)"
      ],
      "execution_count": null,
      "outputs": [
        {
          "output_type": "stream",
          "text": [
            "59049\n"
          ],
          "name": "stdout"
        },
        {
          "output_type": "execute_result",
          "data": {
            "text/plain": [
              "True"
            ]
          },
          "metadata": {
            "tags": []
          },
          "execution_count": 19
        }
      ]
    }
  ]
}