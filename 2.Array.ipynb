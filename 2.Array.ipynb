{
  "nbformat": 4,
  "nbformat_minor": 0,
  "metadata": {
    "colab": {
      "name": "Array.ipynb",
      "provenance": [],
      "authorship_tag": "ABX9TyO7NAt2Goiy53CT1+hIFG/H"
    },
    "kernelspec": {
      "name": "python3",
      "display_name": "Python 3"
    }
  },
  "cells": [
    {
      "cell_type": "markdown",
      "metadata": {
        "id": "pD6mMX-j0xc1"
      },
      "source": [
        "**References:**\r\n",
        "\r\n",
        "[1]\t“Python Lists.” https://www.w3schools.com/python/python_lists.asp (accessed Jan. 29, 2021).\r\n",
        "\r\n",
        "[2]\t“Python Arrays.” https://www.w3schools.com/python/python_arrays.asp (accessed Jan. 29, 2021).\r\n",
        "\r\n",
        "[3] \"joeyajames/ udemy_data_structures\" https://github.com/joeyajames/udemy_data_structures (accessed Feb. 1, 2021).\r\n",
        "\r\n",
        "[4]\t“Learning with Python_ How to Think Like a Computer Scientist” https://drive.google.com/file/d/1S_q1N7gZBXHzrl9p9p6EiFUlem8owRoi/view?usp=sharing \r\n",
        "\r\n",
        "\r\n",
        "\r\n"
      ]
    },
    {
      "cell_type": "markdown",
      "metadata": {
        "id": "WsR0FFTpYAK2"
      },
      "source": [
        "# **BASIC EXERCISE**"
      ]
    },
    {
      "cell_type": "markdown",
      "metadata": {
        "id": "Sp48HLgKxc49"
      },
      "source": [
        "**Question 84, 85, 86, 87:** Write a function that imports a one-dimensional array of real/interger numbers and prints it on the screen."
      ]
    },
    {
      "cell_type": "code",
      "metadata": {
        "colab": {
          "base_uri": "https://localhost:8080/"
        },
        "id": "BHACbxO64_ZS",
        "outputId": "3c6887d2-e780-449d-f34d-ac1407c8563d"
      },
      "source": [
        "n = int(input())\r\n",
        "lst = []\r\n",
        "for i in range(n):\r\n",
        "    lst.append(int(input()))\r\n",
        "print(lst)"
      ],
      "execution_count": null,
      "outputs": [
        {
          "output_type": "stream",
          "text": [
            "3\n",
            "1\n",
            "2\n",
            "3\n",
            "[1, 2, 3]\n"
          ],
          "name": "stdout"
        }
      ]
    },
    {
      "cell_type": "code",
      "metadata": {
        "colab": {
          "base_uri": "https://localhost:8080/"
        },
        "id": "BmdA-TYo3ShV",
        "outputId": "f62a8ad1-7247-4f08-b0b5-98915fa87c1e"
      },
      "source": [
        "n = int(input())\r\n",
        "lst = ([float(input()) for i in range(n)])\r\n",
        "print(lst)"
      ],
      "execution_count": null,
      "outputs": [
        {
          "output_type": "stream",
          "text": [
            "3\n",
            "1.9\n",
            "-8.2\n",
            "3.4\n",
            "[1.9, -8.2, 3.4]\n"
          ],
          "name": "stdout"
        }
      ]
    },
    {
      "cell_type": "markdown",
      "metadata": {
        "id": "bj2A2_Qu6luj"
      },
      "source": [
        "**Question 88:** Write a function that lists even values in a one-dimensional array of numbers."
      ]
    },
    {
      "cell_type": "code",
      "metadata": {
        "colab": {
          "base_uri": "https://localhost:8080/"
        },
        "id": "DnZWOvpG6wxa",
        "outputId": "bc35840a-d007-4497-94e4-eece7f48d9ad"
      },
      "source": [
        "def list_even_values(lst):\r\n",
        "    for val in lst:\r\n",
        "       if val % 2 == 0:\r\n",
        "         print(val, end = ' ')\r\n",
        "\r\n",
        "n = int(input())\r\n",
        "lst = ([int(input()) for i in range(n)])\r\n",
        "list_even_values(lst)"
      ],
      "execution_count": null,
      "outputs": [
        {
          "output_type": "stream",
          "text": [
            "4\n",
            "5\n",
            "2\n",
            "9\n",
            "10\n",
            "2 10 "
          ],
          "name": "stdout"
        }
      ]
    },
    {
      "cell_type": "markdown",
      "metadata": {
        "id": "RzUnYMPH8TzJ"
      },
      "source": [
        "**Question 89:** Write a function that lists positions where the value is negative in a one-dimensional array of real numbers."
      ]
    },
    {
      "cell_type": "code",
      "metadata": {
        "id": "eVQLgUGl8TYD",
        "colab": {
          "base_uri": "https://localhost:8080/"
        },
        "outputId": "907e5d50-7506-4c64-ea3a-e5d13139c788"
      },
      "source": [
        "def list_index_of_negative_values(lst):\r\n",
        "    for i in range(len(lst)):\r\n",
        "        if lst[i] < 0:\r\n",
        "            print(i, end = ' ')\r\n",
        "\r\n",
        "n = int(input())\r\n",
        "lst = ([float(input()) for i in range(n)])\r\n",
        "list_index_of_negative_values(lst) "
      ],
      "execution_count": null,
      "outputs": [
        {
          "output_type": "stream",
          "text": [
            "3\n",
            "-3\n",
            "2\n",
            "-3\n",
            "0 2 "
          ],
          "name": "stdout"
        }
      ]
    },
    {
      "cell_type": "markdown",
      "metadata": {
        "id": "c5gkoQVPtMRz"
      },
      "source": [
        "**Question 90:** Finds \"maximum value\" in a one-dimensional array of real numbers"
      ]
    },
    {
      "cell_type": "code",
      "metadata": {
        "colab": {
          "base_uri": "https://localhost:8080/"
        },
        "id": "ymlOaEPo9RuL",
        "outputId": "e2cb9116-ceea-4a34-c924-3f7e1607349b"
      },
      "source": [
        "lst = [-5, 3, 2.8, 2, 9.5, 7, -3.5]\r\n",
        "max(lst)"
      ],
      "execution_count": null,
      "outputs": [
        {
          "output_type": "execute_result",
          "data": {
            "text/plain": [
              "9.5"
            ]
          },
          "metadata": {
            "tags": []
          },
          "execution_count": 2
        }
      ]
    },
    {
      "cell_type": "markdown",
      "metadata": {
        "id": "t7jrOlm-ut3F"
      },
      "source": [
        "**Question 91:** Finds the \"first positive value\" in a one-dimensional array of real numbers. If the array has no positive value, -1 is returned."
      ]
    },
    {
      "cell_type": "code",
      "metadata": {
        "colab": {
          "base_uri": "https://localhost:8080/"
        },
        "id": "Dwg5Yksevi76",
        "outputId": "194bc557-04e4-4ec3-8e0f-5f90d5cb468c"
      },
      "source": [
        "def first_positive_value(lst):\r\n",
        "    \"\"\"Return the \"first positive value\" in a one-dimensional array of real numbers.\r\n",
        "    If the array has no positive value, -1 is returned.\"\"\"\r\n",
        "    for val in lst:\r\n",
        "        if val > 0:\r\n",
        "            return val\r\n",
        "    return -1\r\n",
        "\r\n",
        "help(first_positive_value)"
      ],
      "execution_count": null,
      "outputs": [
        {
          "output_type": "stream",
          "text": [
            "Help on function first_positive_value in module __main__:\n",
            "\n",
            "first_positive_value(lst)\n",
            "    Return the \"first positive value\" in a one-dimensional array of real numbers.\n",
            "    If the array has no positive value, -1 is returned.\n",
            "\n"
          ],
          "name": "stdout"
        }
      ]
    },
    {
      "cell_type": "code",
      "metadata": {
        "colab": {
          "base_uri": "https://localhost:8080/"
        },
        "id": "GGXLzp54wmY8",
        "outputId": "2f1f6e15-ae1b-4eb4-c3ba-d005d13eab8d"
      },
      "source": [
        "n = int(input())\r\n",
        "lst = [float(input()) for i in range(n)]\r\n",
        "\r\n",
        "print(lst)\r\n",
        "first_positive_value(lst)"
      ],
      "execution_count": null,
      "outputs": [
        {
          "output_type": "stream",
          "text": [
            "5\n",
            "3\n",
            "-12\n",
            "-1.2\n",
            "8\n",
            "-25\n",
            "[3.0, -12.0, -1.2, 8.0, -25.0]\n"
          ],
          "name": "stdout"
        },
        {
          "output_type": "execute_result",
          "data": {
            "text/plain": [
              "3.0"
            ]
          },
          "metadata": {
            "tags": []
          },
          "execution_count": 7
        }
      ]
    },
    {
      "cell_type": "markdown",
      "metadata": {
        "id": "sVgpEqpoDYmd"
      },
      "source": [
        "# **SEARCH AND LIST EXERCISES**"
      ]
    },
    {
      "cell_type": "markdown",
      "metadata": {
        "id": "Kihhtv8K71zP"
      },
      "source": [
        "**Question 132:** List negative numbers in a one-dimensional array of real numbers\r\n"
      ]
    },
    {
      "cell_type": "code",
      "metadata": {
        "colab": {
          "base_uri": "https://localhost:8080/"
        },
        "id": "2W5MI_iv7yeC",
        "outputId": "6721e2f5-2fb7-4054-a7ee-eac60050981b"
      },
      "source": [
        "n = int(input('n = '))\r\n",
        "lst = [float(input()) for i in range(n)]\r\n",
        "\r\n",
        "print([number for number in lst if number < 0])"
      ],
      "execution_count": null,
      "outputs": [
        {
          "output_type": "stream",
          "text": [
            "n = 5\n",
            "-5\n",
            "3\n",
            "-9.5\n",
            "2\n",
            "-1\n",
            "[-5.0, -9.5, -1.0]\n"
          ],
          "name": "stdout"
        }
      ]
    },
    {
      "cell_type": "markdown",
      "metadata": {
        "id": "0qg18GGYsXY4"
      },
      "source": [
        "**Question 133:** List the values in a one-dimensional array of real numbers in a given segment `[x, y]`\r\n",
        "\r\n",
        "\r\n",
        "\r\n",
        "\r\n",
        "\r\n",
        "> 1. Use the `split ()` method to separate data *entered* on the *same line*.\r\n",
        "2. The `map (type, obj)` method will convert the data type of all elements in `obj` to `type`. In this example, we apply map which converts type 2 input data to ***int***\r\n",
        "\r\n",
        "\r\n",
        "\r\n",
        "\r\n",
        "\r\n"
      ]
    },
    {
      "cell_type": "code",
      "metadata": {
        "colab": {
          "base_uri": "https://localhost:8080/"
        },
        "id": "RHxyvBRPsW_b",
        "outputId": "706e555e-bd35-418a-d4a9-8dca3efe14a4"
      },
      "source": [
        "n = int(input('n = '))\r\n",
        "lst = [float(input()) for i in range(n)]\r\n",
        "x, y = map(int, input('[x, y] = ').split())\r\n",
        "print(lst[x : y + 1])"
      ],
      "execution_count": null,
      "outputs": [
        {
          "output_type": "stream",
          "text": [
            "n = 5\n",
            "-3.55\n",
            "12.4\n",
            "8\n",
            "-12.4\n",
            "79.2\n",
            "[x, y] = 1 3\n",
            "[12.4, 8.0, -12.4]\n"
          ],
          "name": "stdout"
        }
      ]
    },
    {
      "cell_type": "markdown",
      "metadata": {
        "id": "c_E2I94m_QeX"
      },
      "source": [
        "**Question 139** List the positons where the value is the largest in a one-dimensional array of real numbers. \r\n",
        "\r\n",
        "\r\n",
        "\r\n",
        "> `Enumerate()` method adds a counter to an iterable and returns it in a form of enumerate object.\r\n",
        "\r\n",
        "\r\n",
        "\r\n"
      ]
    },
    {
      "cell_type": "code",
      "metadata": {
        "colab": {
          "base_uri": "https://localhost:8080/"
        },
        "id": "ZbmhVTeJ_QoO",
        "outputId": "b9b6d034-074b-4475-d868-d15ece378043"
      },
      "source": [
        "n = int(input('n = '))\r\n",
        "lst = [float(input()) for i in range(n)]\r\n",
        "\r\n",
        "print([index for index, value in enumerate(lst) if value == max(lst)])"
      ],
      "execution_count": null,
      "outputs": [
        {
          "output_type": "stream",
          "text": [
            "n = 4\n",
            "-30.5\n",
            "12.3\n",
            "12.3\n",
            "5.4\n",
            "[1, 2]\n"
          ],
          "name": "stdout"
        }
      ]
    },
    {
      "cell_type": "markdown",
      "metadata": {
        "id": "9dmQxgBpSgWD"
      },
      "source": [
        "**Question 151:** List values in an array of integers whose first digit is an odd number."
      ]
    },
    {
      "cell_type": "code",
      "metadata": {
        "colab": {
          "base_uri": "https://localhost:8080/"
        },
        "id": "uXSeKjSySkqh",
        "outputId": "96413fb5-cc34-4dde-b821-5b9714c0cee5"
      },
      "source": [
        "def get_first_digit(n):\r\n",
        "    digit = str(n)\r\n",
        "    return int(digit[0])\r\n",
        "\r\n",
        "n = int(input('n = '))\r\n",
        "lst = [int(input()) for i in range(n)]\r\n",
        "\r\n",
        "print([value for value in lst if get_first_digit(value) % 2 != 0 ])"
      ],
      "execution_count": null,
      "outputs": [
        {
          "output_type": "stream",
          "text": [
            "n = 4\n",
            "58\n",
            "20\n",
            "11\n",
            "89\n",
            "[58, 11]\n"
          ],
          "name": "stdout"
        }
      ]
    },
    {
      "cell_type": "markdown",
      "metadata": {
        "id": "t9SqkhIcW66-"
      },
      "source": [
        "# **SUMMING TECHNIQUES**"
      ]
    },
    {
      "cell_type": "markdown",
      "metadata": {
        "id": "DVirb0KRXFHM"
      },
      "source": [
        "**Question 154:** Calculate the sum of elements in the array"
      ]
    },
    {
      "cell_type": "code",
      "metadata": {
        "colab": {
          "base_uri": "https://localhost:8080/"
        },
        "id": "t1MSzPA2XEro",
        "outputId": "ece6ffa4-d7cc-4693-bb64-5cae9674423f"
      },
      "source": [
        "n = int(input('n = '))\r\n",
        "lst = [int(input()) for i in range(n)]\r\n",
        "sum(lst)"
      ],
      "execution_count": null,
      "outputs": [
        {
          "output_type": "stream",
          "text": [
            "n = 3\n",
            "19\n",
            "1\n",
            "5\n"
          ],
          "name": "stdout"
        },
        {
          "output_type": "execute_result",
          "data": {
            "text/plain": [
              "25"
            ]
          },
          "metadata": {
            "tags": []
          },
          "execution_count": 30
        }
      ]
    },
    {
      "cell_type": "markdown",
      "metadata": {
        "id": "X4cUIebijnIg"
      },
      "source": [
        "**Question 157:** Calculate the sum of values with the tens digit is  5 in the array of integers"
      ]
    },
    {
      "cell_type": "code",
      "metadata": {
        "id": "uc_5QP7WjnVu"
      },
      "source": [
        "def tens_digit_is_five(n):\r\n",
        "    unit = n % 10\r\n",
        "    ten = (n % 100 - unit) // 10\r\n",
        "    return True if ten == 5 else False\r\n",
        "\r\n",
        "def sum_all_tens_digit_is_five(lst):\r\n",
        "    Sum = 0\r\n",
        "    for val in lst:\r\n",
        "        if tens_digit_is_five(val):\r\n",
        "            Sum += val\r\n",
        "    return Sum"
      ],
      "execution_count": null,
      "outputs": []
    },
    {
      "cell_type": "code",
      "metadata": {
        "colab": {
          "base_uri": "https://localhost:8080/"
        },
        "id": "KGwrdsov9W6c",
        "outputId": "1264a456-bdb4-4c5f-869c-050f5de8c249"
      },
      "source": [
        "n = int(input('n = '))\r\n",
        "lst = [int(input()) for i in range(n)]\r\n",
        "sum_all_tens_digit_is_five(lst)"
      ],
      "execution_count": null,
      "outputs": [
        {
          "output_type": "stream",
          "text": [
            "n = 4\n",
            "15\n",
            "5755\n",
            "159\n",
            "231\n"
          ],
          "name": "stdout"
        },
        {
          "output_type": "execute_result",
          "data": {
            "text/plain": [
              "5914"
            ]
          },
          "metadata": {
            "tags": []
          },
          "execution_count": 33
        }
      ]
    },
    {
      "cell_type": "markdown",
      "metadata": {
        "id": "oVFw2zeMa8vC"
      },
      "source": [
        "**Question 158:** Calculate the sum of values greater than the value preceding it in a one-dimensional array of real numbers."
      ]
    },
    {
      "cell_type": "code",
      "metadata": {
        "colab": {
          "base_uri": "https://localhost:8080/"
        },
        "id": "DojiunQDa83G",
        "outputId": "b63cb698-47d5-41f5-ee7b-b9e2a0016d65"
      },
      "source": [
        "n = int(input('n = '))\r\n",
        "lst = [float(input()) for i in range(n)]\r\n",
        "\r\n",
        "sum = 0\r\n",
        "for i in range(1, len(lst)):\r\n",
        "    if(lst[i] > lst[i - 1]):\r\n",
        "        sum += lst[i]\r\n",
        "print(sum)"
      ],
      "execution_count": null,
      "outputs": [
        {
          "output_type": "stream",
          "text": [
            "n = 3\n",
            "1\n",
            "2\n",
            "3\n",
            "5.0\n"
          ],
          "name": "stdout"
        }
      ]
    },
    {
      "cell_type": "markdown",
      "metadata": {
        "id": "S8jmmqIYIPIF"
      },
      "source": [
        "**Question 164:** Calculate the sum of values that have the first digit as an even number in the array of integers"
      ]
    },
    {
      "cell_type": "code",
      "metadata": {
        "id": "Qyo2ploaIPQL"
      },
      "source": [
        "from numpy import random"
      ],
      "execution_count": 71,
      "outputs": []
    },
    {
      "cell_type": "code",
      "metadata": {
        "id": "rTLRB_XLYNMB"
      },
      "source": [
        "def first_digit_is_even(number):\r\n",
        "    number = str(number)\r\n",
        "    return True if int(number[0]) % 2 == 0 else False\r\n",
        "\r\n",
        "def sum_values_first_digit_is_even(arr):\r\n",
        "    return sum([number for number in arr if first_digit_is_even(number)])"
      ],
      "execution_count": 23,
      "outputs": []
    },
    {
      "cell_type": "code",
      "metadata": {
        "colab": {
          "base_uri": "https://localhost:8080/"
        },
        "id": "C-Pns08LXraR",
        "outputId": "6e10e17a-d7f6-4ec4-a5bf-a32b7adf3a20"
      },
      "source": [
        "n = random.randint(30)\r\n",
        "arr = random.randint(100, size = (n))\r\n",
        "\r\n",
        "print(arr)\r\n",
        "sum_values_first_digit_is_even(arr)"
      ],
      "execution_count": 30,
      "outputs": [
        {
          "output_type": "stream",
          "text": [
            "[89 76 12 79 23 74 46 99 78 89 99 88 28 15 79 32 78]\n"
          ],
          "name": "stdout"
        },
        {
          "output_type": "execute_result",
          "data": {
            "text/plain": [
              "363"
            ]
          },
          "metadata": {
            "tags": []
          },
          "execution_count": 30
        }
      ]
    },
    {
      "cell_type": "markdown",
      "metadata": {
        "id": "kH_IF-xId-vs"
      },
      "source": [
        "**Question 166:** Calculate *the average* of positive numbers in an array of real numbers"
      ]
    },
    {
      "cell_type": "code",
      "metadata": {
        "colab": {
          "base_uri": "https://localhost:8080/"
        },
        "id": "-RUKpW2Jd-dq",
        "outputId": "08950f3a-d5e3-48cb-ae48-3cbbc8a24bf6"
      },
      "source": [
        "n = random.randint(10)\r\n",
        "arr = random.uniform(-99, 99, n)\r\n",
        "\r\n",
        "print(arr)\r\n",
        "np.mean([number for number in arr if number > 0]) # calculate average"
      ],
      "execution_count": 83,
      "outputs": [
        {
          "output_type": "stream",
          "text": [
            "[-67.91253  61.99319 -16.62526  -6.9941   -3.45786]\n"
          ],
          "name": "stdout"
        },
        {
          "output_type": "execute_result",
          "data": {
            "text/plain": [
              "61.99319288571044"
            ]
          },
          "metadata": {
            "tags": []
          },
          "execution_count": 83
        }
      ]
    },
    {
      "cell_type": "markdown",
      "metadata": {
        "id": "RLNzYgCmnxHL"
      },
      "source": [
        "**Question 168:** Calculate *the average multiplies* positive values in a one-dimensional array of real numbers"
      ]
    },
    {
      "cell_type": "code",
      "metadata": {
        "colab": {
          "base_uri": "https://localhost:8080/"
        },
        "id": "JFQz-bfZnZGk",
        "outputId": "ceec6180-3a77-4519-df5e-b44153a46f3b"
      },
      "source": [
        "n = random.randint(10)\r\n",
        "arr = random.uniform(-99, 99, n)\r\n",
        "\r\n",
        "print(arr)"
      ],
      "execution_count": 91,
      "outputs": [
        {
          "output_type": "stream",
          "text": [
            "[ 29.11958  92.19215  60.12304  35.80923 -47.79181]\n"
          ],
          "name": "stdout"
        },
        {
          "output_type": "execute_result",
          "data": {
            "text/plain": [
              "5779828.901001129"
            ]
          },
          "metadata": {
            "tags": []
          },
          "execution_count": 91
        }
      ]
    },
    {
      "cell_type": "code",
      "metadata": {
        "colab": {
          "base_uri": "https://localhost:8080/"
        },
        "id": "ambQ0KuLo4Al",
        "outputId": "44d24c2a-ebd0-49e8-8494-754c27073ddb"
      },
      "source": [
        "def calculate_average_multiplies_positive_values(arr):\r\n",
        "    arr = [number for number in arr if number > 0]\r\n",
        "    multiplies = np.prod(arr)\r\n",
        "    size = len(arr)\r\n",
        "    return multiplies / size\r\n",
        "\r\n",
        "calculate_average_multiplies_positive_values(arr)"
      ],
      "execution_count": 97,
      "outputs": [
        {
          "output_type": "execute_result",
          "data": {
            "text/plain": [
              "1444957.2252502823"
            ]
          },
          "metadata": {
            "tags": []
          },
          "execution_count": 97
        }
      ]
    },
    {
      "cell_type": "markdown",
      "metadata": {
        "id": "L10Yo0mmXu_J"
      },
      "source": [
        "# **COUNTING TECHNIQUES**"
      ]
    },
    {
      "cell_type": "markdown",
      "metadata": {
        "id": "sUTQ-_-Bjyjx"
      },
      "source": [
        "**Question 171:** Count the number of even numbers in a one-dimensional array of integer numbers."
      ]
    },
    {
      "cell_type": "code",
      "metadata": {
        "colab": {
          "base_uri": "https://localhost:8080/"
        },
        "id": "PAefnOV8jzNH",
        "outputId": "86203723-2e15-4bf1-8e72-bdeedf62d9b1"
      },
      "source": [
        "def count_even_numbers(lst):\r\n",
        "    count = 0\r\n",
        "    for i in range(len(lst)):\r\n",
        "        if lst[i] % 2 == 0:\r\n",
        "            count += 1\r\n",
        "    return count\r\n",
        "\r\n",
        "n = int(input('n = '))\r\n",
        "lst = [int(input()) for i in range(n)]\r\n",
        "count_even_numbers(lst)"
      ],
      "execution_count": null,
      "outputs": [
        {
          "output_type": "stream",
          "text": [
            "n = 3\n",
            "1\n",
            "2\n",
            "3\n"
          ],
          "name": "stdout"
        },
        {
          "output_type": "execute_result",
          "data": {
            "text/plain": [
              "1"
            ]
          },
          "metadata": {
            "tags": []
          },
          "execution_count": 1
        }
      ]
    },
    {
      "cell_type": "markdown",
      "metadata": {
        "id": "B-yT2WwznjAz"
      },
      "source": [
        "**Question 171:** Count the number of positive values divided by 7 in a one-dimensional array of integer numbers"
      ]
    },
    {
      "cell_type": "code",
      "metadata": {
        "colab": {
          "base_uri": "https://localhost:8080/"
        },
        "id": "CBr1zPvFni3D",
        "outputId": "e2cb72c9-c56a-4e14-a44e-8ba22cdfa628"
      },
      "source": [
        "def count_positive_values_divided_by_seven(lst):\r\n",
        "    count = 0\r\n",
        "    for i in range(len(lst)):\r\n",
        "        if lst[i] % 7 == 0:\r\n",
        "            count += 1\r\n",
        "    return count\r\n",
        "\r\n",
        "n = int(input('n = '))\r\n",
        "lst = [int(input()) for i in range(n)]\r\n",
        "count_positive_values_divided_by_seven(lst)"
      ],
      "execution_count": null,
      "outputs": [
        {
          "output_type": "stream",
          "text": [
            "n = 4\n",
            "7\n",
            "12\n",
            "7\n",
            "49\n"
          ],
          "name": "stdout"
        },
        {
          "output_type": "execute_result",
          "data": {
            "text/plain": [
              "3"
            ]
          },
          "metadata": {
            "tags": []
          },
          "execution_count": 21
        }
      ]
    },
    {
      "cell_type": "markdown",
      "metadata": {
        "id": "JGTh2zKNSrtn"
      },
      "source": [
        "# **DELETE EXERCISES**"
      ]
    },
    {
      "cell_type": "markdown",
      "metadata": {
        "id": "gJG5jeYfxUpT"
      },
      "source": [
        "**Question 225:** Delete the elements with index `k` in the array. "
      ]
    },
    {
      "cell_type": "code",
      "metadata": {
        "colab": {
          "base_uri": "https://localhost:8080/"
        },
        "id": "PO5AwLqDysd8",
        "outputId": "0f451ef8-7f15-4b02-9c04-5111e68feb07"
      },
      "source": [
        "n = int(input('n = '))\r\n",
        "lst = [float(input()) for i in range(n)]\r\n",
        "k = int(input('k = '))\r\n",
        "\r\n",
        "print(lst)\r\n",
        "del(lst[k])\r\n",
        "print(lst)"
      ],
      "execution_count": null,
      "outputs": [
        {
          "output_type": "stream",
          "text": [
            "n = 2\n",
            "-3.5\n",
            "2\n",
            "k = 1\n",
            "[-3.5, 2.0]\n",
            "[-3.5]\n"
          ],
          "name": "stdout"
        }
      ]
    },
    {
      "cell_type": "markdown",
      "metadata": {
        "id": "-woGo2V-zw2a"
      },
      "source": [
        "**Question 231:** Delete all \"prime numbers\" in the integer array"
      ]
    },
    {
      "cell_type": "code",
      "metadata": {
        "id": "xOT0iIDlPrgw"
      },
      "source": [
        "def is_prime(n):\r\n",
        "    if n < 2:\r\n",
        "        return False\r\n",
        "    for i in range(2, n):\r\n",
        "        if n % i == 0:\r\n",
        "            return False\r\n",
        "    return True"
      ],
      "execution_count": null,
      "outputs": []
    },
    {
      "cell_type": "code",
      "metadata": {
        "id": "d_TmqsFiO9aJ"
      },
      "source": [
        "# Approach 1 (Error)\r\n",
        "def delete_all_prime(lst):\r\n",
        "    i = 0\r\n",
        "    real_len = len(lst)\r\n",
        "    while(i < n):\r\n",
        "        if is_prime(lst[i]):\r\n",
        "            lst.remove(lst[i])\r\n",
        "            i -= 1\r\n",
        "            real_len -= 1\r\n",
        "        i += 1\r\n",
        "\r\n",
        "n = int(input('n = '))\r\n",
        "lst = [int(input()) for i in range(n)]\r\n",
        "\r\n",
        "print(lst)\r\n",
        "delete_all_prime(lst)\r\n",
        "print(lst)"
      ],
      "execution_count": null,
      "outputs": []
    },
    {
      "cell_type": "code",
      "metadata": {
        "colab": {
          "base_uri": "https://localhost:8080/"
        },
        "id": "YLyfiUc6FnTW",
        "outputId": "53c80b41-dfba-4036-c4f9-a4036c9e006d"
      },
      "source": [
        "# Approach 2\r\n",
        "n = int(input('n = '))\r\n",
        "lst = [int(input()) for i in range(n)]\r\n",
        "\r\n",
        "new_lst = [val for val in lst if is_prime(val) == False]\r\n",
        "print(lst, new_lst)"
      ],
      "execution_count": null,
      "outputs": [
        {
          "output_type": "stream",
          "text": [
            "n = 5\n",
            "2\n",
            "5\n",
            "9\n",
            "5\n",
            "19\n",
            "[2, 5, 9, 5, 19] [9]\n"
          ],
          "name": "stdout"
        }
      ]
    },
    {
      "cell_type": "markdown",
      "metadata": {
        "id": "ilSF5rBHyJzK"
      },
      "source": [
        "# **Numpy (Numerical Python)**\r\n",
        "\r\n",
        "According to [w3schools.com](https://) :\r\n",
        "\r\n",
        "NumPy is a Python library used for working with arrays.\r\n",
        "\r\n",
        "It also has functions for working in domain of linear algebra, fourier transform, and matrices.\r\n",
        "\r\n",
        "\r\n",
        "\r\n",
        "https://github.com/joeyajames/Python/blob/master/Numpy/Python%20Numpy%20Intro.ipynb\r\n",
        "\r\n",
        "\r\n",
        "https://codelearn.io/sharing/tim-hieu-thu-vien-numpy-trong-python"
      ]
    },
    {
      "cell_type": "code",
      "metadata": {
        "id": "Fh_PqjdOw8Vm"
      },
      "source": [
        "import numpy as np"
      ],
      "execution_count": null,
      "outputs": []
    },
    {
      "cell_type": "code",
      "metadata": {
        "colab": {
          "base_uri": "https://localhost:8080/"
        },
        "id": "ju7FrH0FrDCp",
        "outputId": "3d0a5bfc-64fc-4b1a-b4fe-e040f82b36ae"
      },
      "source": [
        "import numpy as np\r\n",
        "\r\n",
        "n = int(input('n = '))\r\n",
        "arr = np.array([input() for i in range(n)], dtype = 'i')\r\n",
        "\r\n",
        "print(arr.dtype)"
      ],
      "execution_count": null,
      "outputs": [
        {
          "output_type": "stream",
          "text": [
            "n = 1\n",
            "1\n",
            "int32\n"
          ],
          "name": "stdout"
        }
      ]
    },
    {
      "cell_type": "code",
      "metadata": {
        "colab": {
          "base_uri": "https://localhost:8080/"
        },
        "id": "4UNNM48C_weg",
        "outputId": "51a5b3fa-544c-420a-8453-f16471d8d767"
      },
      "source": [
        "def hard_min_swaps(arr):\r\n",
        "    count = 0\r\n",
        "    for i in range(len(arr) - 1):\r\n",
        "        min_element = min(arr[i:])\r\n",
        "        print(min_element, arr[i])\r\n",
        "        if arr[i] > min_element:\r\n",
        "            print('swap, ', arr.index(min_element))\r\n",
        "            print(arr)\r\n",
        "            temp = arr[i]\r\n",
        "            arr[i] = arr[arr.index(min_element)]\r\n",
        "            arr[arr.index(min_element)] = temp\r\n",
        "            count += 1\r\n",
        "            print(arr)\r\n",
        "    return count\r\n",
        "\r\n",
        "arr = [4,3,1,2]\r\n",
        "hard_min_swaps(arr)"
      ],
      "execution_count": null,
      "outputs": [
        {
          "output_type": "stream",
          "text": [
            "1 4\n",
            "swap,  2\n",
            "[4, 3, 1, 2]\n",
            "[4, 3, 1, 2]\n",
            "1 3\n",
            "swap,  2\n",
            "[4, 3, 1, 2]\n",
            "[4, 3, 1, 2]\n",
            "1 1\n"
          ],
          "name": "stdout"
        },
        {
          "output_type": "execute_result",
          "data": {
            "text/plain": [
              "2"
            ]
          },
          "metadata": {
            "tags": []
          },
          "execution_count": 17
        }
      ]
    },
    {
      "cell_type": "code",
      "metadata": {
        "colab": {
          "base_uri": "https://localhost:8080/"
        },
        "id": "fNDMLRCUA32H",
        "outputId": "5b85f034-df5f-49ea-a3b9-34c7e7e8c9d5"
      },
      "source": [
        "arr = [4,3,1,2]\r\n",
        "\r\n",
        "arr[2] = 3\r\n",
        "print(arr)"
      ],
      "execution_count": null,
      "outputs": [
        {
          "output_type": "stream",
          "text": [
            "[4, 3, 3, 2]\n"
          ],
          "name": "stdout"
        }
      ]
    },
    {
      "cell_type": "code",
      "metadata": {
        "colab": {
          "base_uri": "https://localhost:8080/"
        },
        "id": "Dk1CyfhsjlGg",
        "outputId": "f87af4af-79cf-432a-9490-133a5d08cb15"
      },
      "source": [
        "import random\r\n",
        "\r\n",
        "print(\"Random float number with 2 decimal places\")\r\n",
        "num2 = round(random.random(), 2)\r\n",
        "print(num2)\r\n",
        "\r\n",
        "num2 = round(random.uniform(33.33, 66.66), 2)\r\n",
        "print(num2)\r\n",
        "\r\n",
        "print(\"Random float number with 1 decimal places\")\r\n",
        "print(round(random.random(), 1))\r\n",
        "print(round(random.uniform(33.33, 66.66), 1))\r\n"
      ],
      "execution_count": 68,
      "outputs": [
        {
          "output_type": "stream",
          "text": [
            "Random float number with 2 decimal places\n",
            "0.9\n",
            "33.35\n",
            "Random float number with 1 decimal places\n",
            "0.5\n",
            "66.6\n"
          ],
          "name": "stdout"
        }
      ]
    }
  ]
}