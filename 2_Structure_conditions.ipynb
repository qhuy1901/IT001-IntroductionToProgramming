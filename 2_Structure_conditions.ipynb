{
  "nbformat": 4,
  "nbformat_minor": 0,
  "metadata": {
    "colab": {
      "name": "2. Structure conditions.ipynb",
      "provenance": [],
      "authorship_tag": "ABX9TyMEGPMOdRqPseck7gptyjSG"
    },
    "kernelspec": {
      "name": "python3",
      "display_name": "Python 3"
    }
  },
  "cells": [
    {
      "cell_type": "markdown",
      "metadata": {
        "id": "a9AlthhOzGs_"
      },
      "source": [
        "**Question 77:** Write program to enter month and year. Indicate how many days of that month"
      ]
    },
    {
      "cell_type": "code",
      "metadata": {
        "id": "iWQktEO7oWGm"
      },
      "source": [
        "def is_leap_year(year):\r\n",
        "    if (year % 4 == 0 and year % 100 != 0) or year % 400 == 0:\r\n",
        "        return True\r\n",
        "    return False\r\n",
        "\r\n",
        "def number_days_of_month(month, year):\r\n",
        "    if month == 2:\r\n",
        "        if is_leap_year(year):\r\n",
        "            return 29\r\n",
        "        return 28\r\n",
        "    if month == 4 or month ==  6 or month == 9  or month == 11:\r\n",
        "        return 30\r\n",
        "    return 31"
      ],
      "execution_count": 3,
      "outputs": []
    },
    {
      "cell_type": "code",
      "metadata": {
        "colab": {
          "base_uri": "https://localhost:8080/"
        },
        "id": "Ly3k94-9A536",
        "outputId": "35b1a0e5-7782-45bb-8ee3-a06f9789776b"
      },
      "source": [
        "month, year = map(int, input().split())\r\n",
        "number_days_of_month(month, year)"
      ],
      "execution_count": 10,
      "outputs": [
        {
          "output_type": "stream",
          "text": [
            "2 2000\n"
          ],
          "name": "stdout"
        },
        {
          "output_type": "execute_result",
          "data": {
            "text/plain": [
              "29"
            ]
          },
          "metadata": {
            "tags": []
          },
          "execution_count": 10
        }
      ]
    },
    {
      "cell_type": "markdown",
      "metadata": {
        "id": "-0iz-cJjz-am"
      },
      "source": [
        "**Question 78:** Write a program to enter a date (day, month, year). Find the date next to the date you entered (day, month, year)."
      ]
    },
    {
      "cell_type": "code",
      "metadata": {
        "id": "jc_8rSIaGHG2"
      },
      "source": [
        "def is_valid_date(day, month, year):\r\n",
        "    if day < 0 or day > number_days_of_month(month, year):\r\n",
        "        return False\r\n",
        "    if month < 0 or month > 12:\r\n",
        "        return False\r\n",
        "    if year < 0 or year > 9999:\r\n",
        "        return False\r\n",
        "    return True"
      ],
      "execution_count": 2,
      "outputs": []
    },
    {
      "cell_type": "code",
      "metadata": {
        "id": "dt8w351vB2_3"
      },
      "source": [
        "def find_next_date(day, month, year):\r\n",
        "    if not is_valid_date(day, month, year):\r\n",
        "        print('Error: Invalid date')\r\n",
        "        return\r\n",
        "    next_day, next_month, next_year = day, month, year\r\n",
        "    if day == number_days_of_month(month, year):\r\n",
        "        next_day = 1\r\n",
        "        if month == 12:\r\n",
        "            next_month = 1\r\n",
        "            next_year = year + 1\r\n",
        "        else:\r\n",
        "            next_month = month + 1\r\n",
        "    else:\r\n",
        "        next_day = day + 1\r\n",
        "    print('The next date of {3}/{4}/{5} is {0}/{1}/{2}'.format(next_day, next_month, next_year, day, month, year))"
      ],
      "execution_count": 27,
      "outputs": []
    },
    {
      "cell_type": "code",
      "metadata": {
        "colab": {
          "base_uri": "https://localhost:8080/"
        },
        "id": "5DLAsB8jFteQ",
        "outputId": "d3ca8db2-dee7-43c6-b6de-9c8a6a6716e4"
      },
      "source": [
        "day, month, year = map(int, input().split())\r\n",
        "find_next_date(day, month, year)"
      ],
      "execution_count": 28,
      "outputs": [
        {
          "output_type": "stream",
          "text": [
            "31 12 2020\n",
            "The next date of 31/12/2020 is 1/1/2021\n"
          ],
          "name": "stdout"
        }
      ]
    },
    {
      "cell_type": "markdown",
      "metadata": {
        "id": "rkVnjqMJ0KlW"
      },
      "source": [
        "**Question 79:** Write a program to enter a date (day, month, year). Find the date before the date you entered (day, month, year)."
      ]
    },
    {
      "cell_type": "code",
      "metadata": {
        "id": "_rmdTDQ6HcnF"
      },
      "source": [
        "def find_previous_date(day, month, year):\r\n",
        "    if not is_valid_date(day, month, year):\r\n",
        "        print('Error: Invalid date')\r\n",
        "        return\r\n",
        "    previous_day, previous_month, previous_year = day, month, year\r\n",
        "    if day == 1:\r\n",
        "        if month == 1:\r\n",
        "            previous_month = 12\r\n",
        "            previous_year = year - 1\r\n",
        "        else:\r\n",
        "            previous_month = month - 1\r\n",
        "        previous_day = number_days_of_month(previous_month, previous_year)\r\n",
        "    else:\r\n",
        "        previous_day = day - 1\r\n",
        "    print('The previous date of {3}/{4}/{5} is {0}/{1}/{2}'.format(previous_day, previous_month, previous_year, day, month, year))"
      ],
      "execution_count": 1,
      "outputs": []
    },
    {
      "cell_type": "code",
      "metadata": {
        "colab": {
          "base_uri": "https://localhost:8080/"
        },
        "id": "UQd3FTFhJnkV",
        "outputId": "317a4b51-9947-4680-9558-1eed85faf45c"
      },
      "source": [
        "day, month, year = map(int, input().split())\r\n",
        "find_previous_date(day, month, year)"
      ],
      "execution_count": 35,
      "outputs": [
        {
          "output_type": "stream",
          "text": [
            "1 3 2020\n",
            "The previous date of 1/3/2020 is 29/2/2020\n"
          ],
          "name": "stdout"
        }
      ]
    },
    {
      "cell_type": "markdown",
      "metadata": {
        "id": "uQINcesL0UHW"
      },
      "source": [
        "**Question 80:** Write a program to enter day, month and year. Calculate what the day is in the year."
      ]
    },
    {
      "cell_type": "code",
      "metadata": {
        "colab": {
          "base_uri": "https://localhost:8080/"
        },
        "id": "2F8z_SkMt9WS",
        "outputId": "8d55d775-39f9-40be-9888-b7b4eb0f97d2"
      },
      "source": [
        "def find_date_of_year(day, month, year):\r\n",
        "    if not is_valid_date(day, month, year):\r\n",
        "        print('Error: Invalid date')\r\n",
        "        return\r\n",
        "    count_date = 0\r\n",
        "    for i in range(1, month):\r\n",
        "        count_date += number_days_of_month(i, year)\r\n",
        "    print('{0}/{1} is the {3} day of {2}'.format(day, month, year, count_date + day))\r\n",
        "\r\n",
        "day, month, year = map(int, input().split())\r\n",
        "find_date_of_year(day, month, year)"
      ],
      "execution_count": 17,
      "outputs": [
        {
          "output_type": "stream",
          "text": [
            "31 12 2021\n",
            "31/12 is the 365 day of 2021\n"
          ],
          "name": "stdout"
        }
      ]
    },
    {
      "cell_type": "markdown",
      "metadata": {
        "id": "hHdpgnH00jpl"
      },
      "source": [
        "**Question 83:** Write a program for entering three-digit integers. Print out how to read it."
      ]
    },
    {
      "cell_type": "code",
      "metadata": {
        "id": "UOklL8rfc-8Y"
      },
      "source": [
        "def get_len(n):\r\n",
        "    if n == 0:\r\n",
        "        return 1\r\n",
        "    len = 0\r\n",
        "    while n > 0:\r\n",
        "      len += 1\r\n",
        "      n //= 10\r\n",
        "    return len\r\n",
        "\r\n",
        "def get_tens_row(n):\r\n",
        "    n //= 10\r\n",
        "    return n % 10\r\n",
        "\r\n",
        "def unit(number, row, number_of_digits, tens_row, unit_row):\r\n",
        "    switcher = {\r\n",
        "          0 : 'không',\r\n",
        "          1 : 'một',\r\n",
        "          2 : 'hai',\r\n",
        "          3 : 'ba',\r\n",
        "          4 : 'bốn',\r\n",
        "          5 : 'năm',\r\n",
        "          6 : 'sáu',\r\n",
        "          7 : 'bảy',\r\n",
        "          8 : 'tám',\r\n",
        "          9 : 'chín'\r\n",
        "        }\r\n",
        "    if row == 0 : #'unit'\r\n",
        "        if number_of_digits > 1:\r\n",
        "          switcher[0] = ''\r\n",
        "          switcher[5] = 'lăm'\r\n",
        "          if tens_row > 1:\r\n",
        "            switcher[1] = 'mốt'\r\n",
        "        return switcher.get(number, 'Invalid number')\r\n",
        "    elif row == 1: #'tens':\r\n",
        "        switcher[1] = 'mười'\r\n",
        "        if number_of_digits == 2:\r\n",
        "          return switcher.get(number) + ' mươi' if number != 1 else switcher.get(number)\r\n",
        "        if number_of_digits == 3:\r\n",
        "          if tens_row > 1 and unit_row == 0: #error without it: 11 mười mốt\r\n",
        "            return switcher.get(number) + ' mươi'\r\n",
        "          if unit_row == 0:\r\n",
        "            switcher[0] = ''\r\n",
        "            return switcher.get(number) \r\n",
        "          if tens_row == 0:\r\n",
        "            switcher[0] = 'lẻ'\r\n",
        "            return switcher.get(number)\r\n",
        "        return switcher.get(number) + ' mươi' if number != 1 else switcher.get(number)\r\n",
        "    elif row == 2: #'hunders':\r\n",
        "        switcher[0] = ''\r\n",
        "        return switcher.get(number, 'Invalid number') + ' trăm'\r\n",
        "    else:\r\n",
        "        return switcher.get(number, 'Invalid number')\r\n",
        "\r\n",
        "def read_number(n):\r\n",
        "    len = get_len(n)\r\n",
        "    tens_row = None if len < 2 else get_tens_row(n) \r\n",
        "    unit_row = n % 10\r\n",
        "    answer = ''\r\n",
        "    for i in range(len):\r\n",
        "        number = n % 10\r\n",
        "        answer = unit(number, i, len, tens_row, unit_row) + ' ' + answer\r\n",
        "        n //= 10\r\n",
        "    return answer"
      ],
      "execution_count": 88,
      "outputs": []
    },
    {
      "cell_type": "code",
      "metadata": {
        "colab": {
          "base_uri": "https://localhost:8080/"
        },
        "id": "PGzwbwSiBRiA",
        "outputId": "e93ec401-5409-43f2-934d-a8cf3a1816a8"
      },
      "source": [
        "for i in range(201):\r\n",
        "    print(i , read_number(i))"
      ],
      "execution_count": 90,
      "outputs": [
        {
          "output_type": "stream",
          "text": [
            "0 không \n",
            "1 một \n",
            "2 hai \n",
            "3 ba \n",
            "4 bốn \n",
            "5 năm \n",
            "6 sáu \n",
            "7 bảy \n",
            "8 tám \n",
            "9 chín \n",
            "10 mười  \n",
            "11 mười một \n",
            "12 mười hai \n",
            "13 mười ba \n",
            "14 mười bốn \n",
            "15 mười lăm \n",
            "16 mười sáu \n",
            "17 mười bảy \n",
            "18 mười tám \n",
            "19 mười chín \n",
            "20 hai mươi  \n",
            "21 hai mươi mốt \n",
            "22 hai mươi hai \n",
            "23 hai mươi ba \n",
            "24 hai mươi bốn \n",
            "25 hai mươi lăm \n",
            "26 hai mươi sáu \n",
            "27 hai mươi bảy \n",
            "28 hai mươi tám \n",
            "29 hai mươi chín \n",
            "30 ba mươi  \n",
            "31 ba mươi mốt \n",
            "32 ba mươi hai \n",
            "33 ba mươi ba \n",
            "34 ba mươi bốn \n",
            "35 ba mươi lăm \n",
            "36 ba mươi sáu \n",
            "37 ba mươi bảy \n",
            "38 ba mươi tám \n",
            "39 ba mươi chín \n",
            "40 bốn mươi  \n",
            "41 bốn mươi mốt \n",
            "42 bốn mươi hai \n",
            "43 bốn mươi ba \n",
            "44 bốn mươi bốn \n",
            "45 bốn mươi lăm \n",
            "46 bốn mươi sáu \n",
            "47 bốn mươi bảy \n",
            "48 bốn mươi tám \n",
            "49 bốn mươi chín \n",
            "50 năm mươi  \n",
            "51 năm mươi mốt \n",
            "52 năm mươi hai \n",
            "53 năm mươi ba \n",
            "54 năm mươi bốn \n",
            "55 năm mươi lăm \n",
            "56 năm mươi sáu \n",
            "57 năm mươi bảy \n",
            "58 năm mươi tám \n",
            "59 năm mươi chín \n",
            "60 sáu mươi  \n",
            "61 sáu mươi mốt \n",
            "62 sáu mươi hai \n",
            "63 sáu mươi ba \n",
            "64 sáu mươi bốn \n",
            "65 sáu mươi lăm \n",
            "66 sáu mươi sáu \n",
            "67 sáu mươi bảy \n",
            "68 sáu mươi tám \n",
            "69 sáu mươi chín \n",
            "70 bảy mươi  \n",
            "71 bảy mươi mốt \n",
            "72 bảy mươi hai \n",
            "73 bảy mươi ba \n",
            "74 bảy mươi bốn \n",
            "75 bảy mươi lăm \n",
            "76 bảy mươi sáu \n",
            "77 bảy mươi bảy \n",
            "78 bảy mươi tám \n",
            "79 bảy mươi chín \n",
            "80 tám mươi  \n",
            "81 tám mươi mốt \n",
            "82 tám mươi hai \n",
            "83 tám mươi ba \n",
            "84 tám mươi bốn \n",
            "85 tám mươi lăm \n",
            "86 tám mươi sáu \n",
            "87 tám mươi bảy \n",
            "88 tám mươi tám \n",
            "89 tám mươi chín \n",
            "90 chín mươi  \n",
            "91 chín mươi mốt \n",
            "92 chín mươi hai \n",
            "93 chín mươi ba \n",
            "94 chín mươi bốn \n",
            "95 chín mươi lăm \n",
            "96 chín mươi sáu \n",
            "97 chín mươi bảy \n",
            "98 chín mươi tám \n",
            "99 chín mươi chín \n",
            "100 một trăm   \n",
            "101 một trăm lẻ một \n",
            "102 một trăm lẻ hai \n",
            "103 một trăm lẻ ba \n",
            "104 một trăm lẻ bốn \n",
            "105 một trăm lẻ lăm \n",
            "106 một trăm lẻ sáu \n",
            "107 một trăm lẻ bảy \n",
            "108 một trăm lẻ tám \n",
            "109 một trăm lẻ chín \n",
            "110 một trăm mười  \n",
            "111 một trăm mười một \n",
            "112 một trăm mười hai \n",
            "113 một trăm mười ba \n",
            "114 một trăm mười bốn \n",
            "115 một trăm mười lăm \n",
            "116 một trăm mười sáu \n",
            "117 một trăm mười bảy \n",
            "118 một trăm mười tám \n",
            "119 một trăm mười chín \n",
            "120 một trăm hai mươi  \n",
            "121 một trăm hai mươi mốt \n",
            "122 một trăm hai mươi hai \n",
            "123 một trăm hai mươi ba \n",
            "124 một trăm hai mươi bốn \n",
            "125 một trăm hai mươi lăm \n",
            "126 một trăm hai mươi sáu \n",
            "127 một trăm hai mươi bảy \n",
            "128 một trăm hai mươi tám \n",
            "129 một trăm hai mươi chín \n",
            "130 một trăm ba mươi  \n",
            "131 một trăm ba mươi mốt \n",
            "132 một trăm ba mươi hai \n",
            "133 một trăm ba mươi ba \n",
            "134 một trăm ba mươi bốn \n",
            "135 một trăm ba mươi lăm \n",
            "136 một trăm ba mươi sáu \n",
            "137 một trăm ba mươi bảy \n",
            "138 một trăm ba mươi tám \n",
            "139 một trăm ba mươi chín \n",
            "140 một trăm bốn mươi  \n",
            "141 một trăm bốn mươi mốt \n",
            "142 một trăm bốn mươi hai \n",
            "143 một trăm bốn mươi ba \n",
            "144 một trăm bốn mươi bốn \n",
            "145 một trăm bốn mươi lăm \n",
            "146 một trăm bốn mươi sáu \n",
            "147 một trăm bốn mươi bảy \n",
            "148 một trăm bốn mươi tám \n",
            "149 một trăm bốn mươi chín \n",
            "150 một trăm năm mươi  \n",
            "151 một trăm năm mươi mốt \n",
            "152 một trăm năm mươi hai \n",
            "153 một trăm năm mươi ba \n",
            "154 một trăm năm mươi bốn \n",
            "155 một trăm năm mươi lăm \n",
            "156 một trăm năm mươi sáu \n",
            "157 một trăm năm mươi bảy \n",
            "158 một trăm năm mươi tám \n",
            "159 một trăm năm mươi chín \n",
            "160 một trăm sáu mươi  \n",
            "161 một trăm sáu mươi mốt \n",
            "162 một trăm sáu mươi hai \n",
            "163 một trăm sáu mươi ba \n",
            "164 một trăm sáu mươi bốn \n",
            "165 một trăm sáu mươi lăm \n",
            "166 một trăm sáu mươi sáu \n",
            "167 một trăm sáu mươi bảy \n",
            "168 một trăm sáu mươi tám \n",
            "169 một trăm sáu mươi chín \n",
            "170 một trăm bảy mươi  \n",
            "171 một trăm bảy mươi mốt \n",
            "172 một trăm bảy mươi hai \n",
            "173 một trăm bảy mươi ba \n",
            "174 một trăm bảy mươi bốn \n",
            "175 một trăm bảy mươi lăm \n",
            "176 một trăm bảy mươi sáu \n",
            "177 một trăm bảy mươi bảy \n",
            "178 một trăm bảy mươi tám \n",
            "179 một trăm bảy mươi chín \n",
            "180 một trăm tám mươi  \n",
            "181 một trăm tám mươi mốt \n",
            "182 một trăm tám mươi hai \n",
            "183 một trăm tám mươi ba \n",
            "184 một trăm tám mươi bốn \n",
            "185 một trăm tám mươi lăm \n",
            "186 một trăm tám mươi sáu \n",
            "187 một trăm tám mươi bảy \n",
            "188 một trăm tám mươi tám \n",
            "189 một trăm tám mươi chín \n",
            "190 một trăm chín mươi  \n",
            "191 một trăm chín mươi mốt \n",
            "192 một trăm chín mươi hai \n",
            "193 một trăm chín mươi ba \n",
            "194 một trăm chín mươi bốn \n",
            "195 một trăm chín mươi lăm \n",
            "196 một trăm chín mươi sáu \n",
            "197 một trăm chín mươi bảy \n",
            "198 một trăm chín mươi tám \n",
            "199 một trăm chín mươi chín \n",
            "200 hai trăm   \n"
          ],
          "name": "stdout"
        }
      ]
    },
    {
      "cell_type": "markdown",
      "metadata": {
        "id": "cdA4oVoX1Dzu"
      },
      "source": [
        "**Question 83:** Write a program that prints out a triangle of height h"
      ]
    },
    {
      "cell_type": "code",
      "metadata": {
        "colab": {
          "base_uri": "https://localhost:8080/"
        },
        "id": "rp4Zbbc31Qlu",
        "outputId": "8dfe7566-31d0-4146-bcec-698f8ff33e22"
      },
      "source": [
        "h = int(input())"
      ],
      "execution_count": 18,
      "outputs": [
        {
          "output_type": "stream",
          "text": [
            "5\n"
          ],
          "name": "stdout"
        }
      ]
    },
    {
      "cell_type": "markdown",
      "metadata": {
        "id": "AAiLNTEG1d3-"
      },
      "source": [
        "**a.** The isosceles triangle is located in the middle of the screen."
      ]
    },
    {
      "cell_type": "code",
      "metadata": {
        "colab": {
          "base_uri": "https://localhost:8080/"
        },
        "id": "gsCyCcE1RPuz",
        "outputId": "9075db7d-2013-4951-d207-756ce86011d5"
      },
      "source": [
        "indent = (1 + h * 2) // 2 - 1\r\n",
        "number_of_star = 1\r\n",
        "for i in range(1, h + 1):\r\n",
        "    print('  ' * indent + '* ' * number_of_star )\r\n",
        "    indent -= 1\r\n",
        "    number_of_star += 2"
      ],
      "execution_count": 19,
      "outputs": [
        {
          "output_type": "stream",
          "text": [
            "        * \n",
            "      * * * \n",
            "    * * * * * \n",
            "  * * * * * * * \n",
            "* * * * * * * * * \n"
          ],
          "name": "stdout"
        }
      ]
    },
    {
      "cell_type": "markdown",
      "metadata": {
        "id": "93AzY9_c1efG"
      },
      "source": [
        "**b.** The empty isosceles triangle is in the middle of the screen"
      ]
    },
    {
      "cell_type": "code",
      "metadata": {
        "colab": {
          "base_uri": "https://localhost:8080/"
        },
        "id": "EL_mWwEkVEUH",
        "outputId": "f6212bde-44f8-48d5-9db6-018a8229ab42"
      },
      "source": [
        "indent = (1 + h * 2) // 2 - 1\r\n",
        "number_of_star = 1\r\n",
        "for i in range(1, h + 1):\r\n",
        "    if i == 1:\r\n",
        "        print('  ' * indent + '*')\r\n",
        "    elif i == h:\r\n",
        "        print('* ' * number_of_star)\r\n",
        "    else:\r\n",
        "        number_of_space = number_of_star - 2\r\n",
        "        print('  ' * indent + '* ' + '  ' * number_of_space + '*' )\r\n",
        "    indent -= 1\r\n",
        "    number_of_star += 2"
      ],
      "execution_count": 21,
      "outputs": [
        {
          "output_type": "stream",
          "text": [
            "        *\n",
            "      *   *\n",
            "    *       *\n",
            "  *           *\n",
            "* * * * * * * * * \n"
          ],
          "name": "stdout"
        }
      ]
    },
    {
      "cell_type": "markdown",
      "metadata": {
        "id": "cad6Wn8c1fNu"
      },
      "source": [
        "**c.** Solid isosceles right triangle"
      ]
    },
    {
      "cell_type": "code",
      "metadata": {
        "colab": {
          "base_uri": "https://localhost:8080/"
        },
        "id": "L58XbVnLMUgc",
        "outputId": "e9b35b36-967b-4412-c928-827a0f29126a"
      },
      "source": [
        "for i in range(1, h + 1):\r\n",
        "    print('* ' * i)"
      ],
      "execution_count": 20,
      "outputs": [
        {
          "output_type": "stream",
          "text": [
            "* \n",
            "* * \n",
            "* * * \n",
            "* * * * \n",
            "* * * * * \n"
          ],
          "name": "stdout"
        }
      ]
    },
    {
      "cell_type": "markdown",
      "metadata": {
        "id": "gZiuCaTH1h8e"
      },
      "source": [
        "**d.** Empty isosceles right triangle"
      ]
    },
    {
      "cell_type": "code",
      "metadata": {
        "colab": {
          "base_uri": "https://localhost:8080/"
        },
        "id": "PSGormQYQPCK",
        "outputId": "615d0f35-73f4-4b70-9818-937b88f4c199"
      },
      "source": [
        "for i in range(1, h + 1):\r\n",
        "    if i == 1:\r\n",
        "        print('*')\r\n",
        "    elif i == h:\r\n",
        "        print('* ' * h)\r\n",
        "    else:\r\n",
        "        print('* ' + '  ' * (i - 2) + '*')"
      ],
      "execution_count": 22,
      "outputs": [
        {
          "output_type": "stream",
          "text": [
            "*\n",
            "* *\n",
            "*   *\n",
            "*     *\n",
            "* * * * * \n"
          ],
          "name": "stdout"
        }
      ]
    }
  ]
}