{
  "nbformat": 4,
  "nbformat_minor": 0,
  "metadata": {
    "colab": {
      "name": "Array.ipynb",
      "provenance": [],
      "authorship_tag": "ABX9TyMZ9Z5dZbCuwgo7DIYr5Z8M",
      "include_colab_link": true
    },
    "kernelspec": {
      "name": "python3",
      "display_name": "Python 3"
    }
  },
  "cells": [
    {
      "cell_type": "markdown",
      "metadata": {
        "id": "view-in-github",
        "colab_type": "text"
      },
      "source": [
        "<a href=\"https://colab.research.google.com/github/qhuy1901/IT001-IntroductionToProgramming/blob/main/Array.ipynb\" target=\"_parent\"><img src=\"https://colab.research.google.com/assets/colab-badge.svg\" alt=\"Open In Colab\"/></a>"
      ]
    },
    {
      "cell_type": "markdown",
      "metadata": {
        "id": "pD6mMX-j0xc1"
      },
      "source": [
        "**References:**\r\n",
        "\r\n",
        "[1]\t“Python Lists.” https://www.w3schools.com/python/python_lists.asp (accessed Jan. 29, 2021).\r\n",
        "\r\n",
        "[2]\t“Python Arrays.” https://www.w3schools.com/python/python_arrays.asp (accessed Jan. 29, 2021).\r\n",
        "\r\n",
        "[3]\t“Learning with Python_ How to Think Like a Computer Scientist” https://drive.google.com/file/d/1S_q1N7gZBXHzrl9p9p6EiFUlem8owRoi/view?usp=sharing \r\n",
        "\r\n",
        "\r\n",
        "\r\n"
      ]
    },
    {
      "cell_type": "code",
      "metadata": {
        "id": "Fh_PqjdOw8Vm"
      },
      "source": [
        "import numpy as np"
      ],
      "execution_count": null,
      "outputs": []
    },
    {
      "cell_type": "markdown",
      "metadata": {
        "id": "Sp48HLgKxc49"
      },
      "source": [
        "**Question 84, 85, 86, 87:** Write a function that imports a one-dimensional array of real/interger numbers and prints it on the screen."
      ]
    },
    {
      "cell_type": "code",
      "metadata": {
        "colab": {
          "base_uri": "https://localhost:8080/"
        },
        "id": "BHACbxO64_ZS",
        "outputId": "3c6887d2-e780-449d-f34d-ac1407c8563d"
      },
      "source": [
        "n = int(input())\r\n",
        "lst = []\r\n",
        "for i in range(n):\r\n",
        "    lst.append(int(input()))\r\n",
        "print(lst)"
      ],
      "execution_count": null,
      "outputs": [
        {
          "output_type": "stream",
          "text": [
            "3\n",
            "1\n",
            "2\n",
            "3\n",
            "[1, 2, 3]\n"
          ],
          "name": "stdout"
        }
      ]
    },
    {
      "cell_type": "code",
      "metadata": {
        "colab": {
          "base_uri": "https://localhost:8080/"
        },
        "id": "BmdA-TYo3ShV",
        "outputId": "f62a8ad1-7247-4f08-b0b5-98915fa87c1e"
      },
      "source": [
        "n = int(input())\r\n",
        "lst = ([float(input()) for i in range(n)])\r\n",
        "print(lst)"
      ],
      "execution_count": null,
      "outputs": [
        {
          "output_type": "stream",
          "text": [
            "3\n",
            "1.9\n",
            "-8.2\n",
            "3.4\n",
            "[1.9, -8.2, 3.4]\n"
          ],
          "name": "stdout"
        }
      ]
    },
    {
      "cell_type": "markdown",
      "metadata": {
        "id": "bj2A2_Qu6luj"
      },
      "source": [
        "**Question 88:** Write a function that lists even values in a one-dimensional array of numbers."
      ]
    },
    {
      "cell_type": "code",
      "metadata": {
        "colab": {
          "base_uri": "https://localhost:8080/"
        },
        "id": "DnZWOvpG6wxa",
        "outputId": "bc35840a-d007-4497-94e4-eece7f48d9ad"
      },
      "source": [
        "def list_even_values(lst):\r\n",
        "    for val in lst:\r\n",
        "       if val % 2 == 0:\r\n",
        "         print(val, end = ' ')\r\n",
        "\r\n",
        "n = int(input())\r\n",
        "lst = ([int(input()) for i in range(n)])\r\n",
        "list_even_values(lst)"
      ],
      "execution_count": null,
      "outputs": [
        {
          "output_type": "stream",
          "text": [
            "4\n",
            "5\n",
            "2\n",
            "9\n",
            "10\n",
            "2 10 "
          ],
          "name": "stdout"
        }
      ]
    },
    {
      "cell_type": "markdown",
      "metadata": {
        "id": "RzUnYMPH8TzJ"
      },
      "source": [
        "**Question 89:** Write a function that lists positions where the value is negative in a one-dimensional array of real numbers."
      ]
    },
    {
      "cell_type": "code",
      "metadata": {
        "id": "eVQLgUGl8TYD",
        "colab": {
          "base_uri": "https://localhost:8080/"
        },
        "outputId": "907e5d50-7506-4c64-ea3a-e5d13139c788"
      },
      "source": [
        "def list_index_of_negative_values(lst):\r\n",
        "    for i in range(len(lst)):\r\n",
        "        if lst[i] < 0:\r\n",
        "            print(i, end = ' ')\r\n",
        "\r\n",
        "n = int(input())\r\n",
        "lst = ([float(input()) for i in range(n)])\r\n",
        "list_index_of_negative_values(lst) "
      ],
      "execution_count": null,
      "outputs": [
        {
          "output_type": "stream",
          "text": [
            "3\n",
            "-3\n",
            "2\n",
            "-3\n",
            "0 2 "
          ],
          "name": "stdout"
        }
      ]
    },
    {
      "cell_type": "markdown",
      "metadata": {
        "id": "c5gkoQVPtMRz"
      },
      "source": [
        "**Question 90:** Finds \"maximum value\" in a one-dimensional array of real numbers"
      ]
    },
    {
      "cell_type": "code",
      "metadata": {
        "colab": {
          "base_uri": "https://localhost:8080/"
        },
        "id": "ymlOaEPo9RuL",
        "outputId": "e2cb9116-ceea-4a34-c924-3f7e1607349b"
      },
      "source": [
        "lst = [-5, 3, 2.8, 2, 9.5, 7, -3.5]\r\n",
        "max(lst)"
      ],
      "execution_count": null,
      "outputs": [
        {
          "output_type": "execute_result",
          "data": {
            "text/plain": [
              "9.5"
            ]
          },
          "metadata": {
            "tags": []
          },
          "execution_count": 2
        }
      ]
    },
    {
      "cell_type": "markdown",
      "metadata": {
        "id": "t7jrOlm-ut3F"
      },
      "source": [
        "**Question 91:** Finds the \"first positive value\" in a one-dimensional array of real numbers. If the array has no positive value, -1 is returned."
      ]
    },
    {
      "cell_type": "code",
      "metadata": {
        "colab": {
          "base_uri": "https://localhost:8080/"
        },
        "id": "Dwg5Yksevi76",
        "outputId": "194bc557-04e4-4ec3-8e0f-5f90d5cb468c"
      },
      "source": [
        "def first_positive_value(lst):\r\n",
        "    \"\"\"Return the \"first positive value\" in a one-dimensional array of real numbers.\r\n",
        "    If the array has no positive value, -1 is returned.\"\"\"\r\n",
        "    for val in lst:\r\n",
        "        if val > 0:\r\n",
        "            return val\r\n",
        "    return -1\r\n",
        "\r\n",
        "help(first_positive_value)"
      ],
      "execution_count": null,
      "outputs": [
        {
          "output_type": "stream",
          "text": [
            "Help on function first_positive_value in module __main__:\n",
            "\n",
            "first_positive_value(lst)\n",
            "    Return the \"first positive value\" in a one-dimensional array of real numbers.\n",
            "    If the array has no positive value, -1 is returned.\n",
            "\n"
          ],
          "name": "stdout"
        }
      ]
    },
    {
      "cell_type": "code",
      "metadata": {
        "colab": {
          "base_uri": "https://localhost:8080/"
        },
        "id": "GGXLzp54wmY8",
        "outputId": "2f1f6e15-ae1b-4eb4-c3ba-d005d13eab8d"
      },
      "source": [
        "n = int(input())\r\n",
        "lst = [float(input()) for i in range(n)]\r\n",
        "\r\n",
        "print(lst)\r\n",
        "first_positive_value(lst)"
      ],
      "execution_count": null,
      "outputs": [
        {
          "output_type": "stream",
          "text": [
            "5\n",
            "3\n",
            "-12\n",
            "-1.2\n",
            "8\n",
            "-25\n",
            "[3.0, -12.0, -1.2, 8.0, -25.0]\n"
          ],
          "name": "stdout"
        },
        {
          "output_type": "execute_result",
          "data": {
            "text/plain": [
              "3.0"
            ]
          },
          "metadata": {
            "tags": []
          },
          "execution_count": 7
        }
      ]
    },
    {
      "cell_type": "markdown",
      "metadata": {
        "id": "gJG5jeYfxUpT"
      },
      "source": [
        "**Question 225:** Delete the elements with index `k` in the array. "
      ]
    },
    {
      "cell_type": "code",
      "metadata": {
        "colab": {
          "base_uri": "https://localhost:8080/"
        },
        "id": "PO5AwLqDysd8",
        "outputId": "0f451ef8-7f15-4b02-9c04-5111e68feb07"
      },
      "source": [
        "n = int(input('n = '))\r\n",
        "lst = [float(input()) for i in range(n)]\r\n",
        "k = int(input('k = '))\r\n",
        "\r\n",
        "print(lst)\r\n",
        "del(lst[k])\r\n",
        "print(lst)"
      ],
      "execution_count": null,
      "outputs": [
        {
          "output_type": "stream",
          "text": [
            "n = 2\n",
            "-3.5\n",
            "2\n",
            "k = 1\n",
            "[-3.5, 2.0]\n",
            "[-3.5]\n"
          ],
          "name": "stdout"
        }
      ]
    },
    {
      "cell_type": "markdown",
      "metadata": {
        "id": "-woGo2V-zw2a"
      },
      "source": [
        "**Question 231:** Delete all \"prime numbers\" in the integer array"
      ]
    },
    {
      "cell_type": "code",
      "metadata": {
        "id": "bvnoYu9JxUTj"
      },
      "source": [
        "def is_prime(n):\r\n",
        "    if n < 2:\r\n",
        "        return False\r\n",
        "    for i in range(2, n):\r\n",
        "        if n % i == 0:\r\n",
        "            return False\r\n",
        "    return True\r\n",
        "\r\n",
        "def delete_all_prime(lst):\r\n",
        "    i = 0\r\n",
        "    n = len(lst)\r\n",
        "    while(i < n):\r\n",
        "        if is_prime(lst[i]):\r\n",
        "            lst.remove(lst[i])\r\n",
        "            i -= 1\r\n",
        "            n -= 1\r\n",
        "        i += 1    "
      ],
      "execution_count": 18,
      "outputs": []
    },
    {
      "cell_type": "code",
      "metadata": {
        "id": "Vd2H2-hczwdS",
        "colab": {
          "base_uri": "https://localhost:8080/"
        },
        "outputId": "ce20341e-690c-4b3d-bc96-e5613861d33e"
      },
      "source": [
        "n = int(input('n = '))\r\n",
        "lst = [int(input()) for i in range(n)]\r\n",
        "\r\n",
        "print(lst)\r\n",
        "delete_all_prime(lst)\r\n",
        "print(lst)"
      ],
      "execution_count": 19,
      "outputs": [
        {
          "output_type": "stream",
          "text": [
            "n = 5\n",
            "2\n",
            "5\n",
            "9\n",
            "5\n",
            "19\n",
            "[2, 5, 9, 5, 19]\n",
            "[9]\n"
          ],
          "name": "stdout"
        }
      ]
    },
    {
      "cell_type": "markdown",
      "metadata": {
        "id": "ilSF5rBHyJzK"
      },
      "source": [
        "**Numpy (Numerical Python)**\r\n",
        "\r\n",
        "According to [w3schools.com](https://) :\r\n",
        "\r\n",
        "NumPy is a Python library used for working with arrays.\r\n",
        "\r\n",
        "It also has functions for working in domain of linear algebra, fourier transform, and matrices.\r\n",
        "\r\n"
      ]
    },
    {
      "cell_type": "code",
      "metadata": {
        "id": "YaRd3Ia_dKL_"
      },
      "source": [
        ""
      ],
      "execution_count": null,
      "outputs": []
    }
  ]
}