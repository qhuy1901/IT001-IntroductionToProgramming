{
  "nbformat": 4,
  "nbformat_minor": 0,
  "metadata": {
    "colab": {
      "name": "String.ipynb",
      "provenance": [],
      "authorship_tag": "ABX9TyPe6GIbYuq5EJmbP5L1K/Zt"
    },
    "kernelspec": {
      "name": "python3",
      "display_name": "Python 3"
    }
  },
  "cells": [
    {
      "cell_type": "markdown",
      "metadata": {
        "id": "dl3j0x_W73Uj"
      },
      "source": [
        "# **Basic Exercise**"
      ]
    },
    {
      "cell_type": "markdown",
      "metadata": {
        "id": "ONyTT1KeKZi_"
      },
      "source": [
        "**Question 1:** Count the space characters in the character string"
      ]
    },
    {
      "cell_type": "code",
      "metadata": {
        "id": "lM4r6iHGKZFJ",
        "colab": {
          "base_uri": "https://localhost:8080/"
        },
        "outputId": "b52450a8-3bbd-42cb-ba78-6cdd75291466"
      },
      "source": [
        "#Option 1\r\n",
        "def count_space(str):\r\n",
        "    count = 0\r\n",
        "    for char in str:\r\n",
        "        if char.isspace():\r\n",
        "            count += 1\r\n",
        "    return count\r\n",
        "\r\n",
        "str = input()\r\n",
        "count_space(str)"
      ],
      "execution_count": null,
      "outputs": [
        {
          "output_type": "stream",
          "text": [
            "   The secret of life, though, is to fall seven times and to get up eight times\n"
          ],
          "name": "stdout"
        },
        {
          "output_type": "execute_result",
          "data": {
            "text/plain": [
              "18"
            ]
          },
          "metadata": {
            "tags": []
          },
          "execution_count": 25
        }
      ]
    },
    {
      "cell_type": "code",
      "metadata": {
        "id": "0GPoiCYAM7-u",
        "colab": {
          "base_uri": "https://localhost:8080/"
        },
        "outputId": "458a98ce-7c9d-4435-a087-1663d173fd63"
      },
      "source": [
        "#Option 2\r\n",
        "str = input()\r\n",
        "print(str.count(' '))"
      ],
      "execution_count": null,
      "outputs": [
        {
          "output_type": "stream",
          "text": [
            "   The secret of life, though, is to fall seven times and to get up eight times\n",
            "18\n"
          ],
          "name": "stdout"
        }
      ]
    },
    {
      "cell_type": "markdown",
      "metadata": {
        "id": "JvKEYCmQL2aO"
      },
      "source": [
        "**Question 2:** Count upper and lower case characters in the character string"
      ]
    },
    {
      "cell_type": "code",
      "metadata": {
        "id": "n7WTL5fGMP41",
        "colab": {
          "base_uri": "https://localhost:8080/"
        },
        "outputId": "7fef6ac6-09ae-4ef1-ba71-37bc0038d3d8"
      },
      "source": [
        "def count_upper_case_characters(str):\r\n",
        "    count = 0\r\n",
        "    for char in str:\r\n",
        "        if char.isupper():\r\n",
        "            count += 1\r\n",
        "    return count\r\n",
        "\r\n",
        "def count_lower_case_characters(str):\r\n",
        "    count = 0\r\n",
        "    for char in str:\r\n",
        "        if char.islower():\r\n",
        "            count += 1\r\n",
        "    return count\r\n",
        "\r\n",
        "str = input()\r\n",
        "lower_case = count_lower_case_characters(str)\r\n",
        "upper_case = count_upper_case_characters(str)\r\n",
        "print('lower_case = ', lower_case)\r\n",
        "print('upper_case = ', upper_case)"
      ],
      "execution_count": null,
      "outputs": [
        {
          "output_type": "stream",
          "text": [
            "When we strive to become better than we are, everything around us becomes better, too\n",
            "lower_case =  68\n",
            "upper_case =  1\n"
          ],
          "name": "stdout"
        }
      ]
    },
    {
      "cell_type": "markdown",
      "metadata": {
        "id": "XwswiXGRHBAu"
      },
      "source": [
        "**Question 3:**  Convert words at the beginning of a sentence to upper case and non-sentence words to lower case "
      ]
    },
    {
      "cell_type": "code",
      "metadata": {
        "colab": {
          "base_uri": "https://localhost:8080/"
        },
        "id": "aS-0nkCoHDlF",
        "outputId": "d74db8f7-2428-4a6a-e7cb-c3db979791c8"
      },
      "source": [
        "str = input()\r\n",
        "print(str.title())"
      ],
      "execution_count": null,
      "outputs": [
        {
          "output_type": "stream",
          "text": [
            "UNIVERSITY OF information technology\n",
            "University Of Information Technology\n"
          ],
          "name": "stdout"
        }
      ]
    },
    {
      "cell_type": "markdown",
      "metadata": {
        "id": "dFOh9N-dJ2uM"
      },
      "source": [
        "**Question 4, 5:** Convert lowercase characters to uppercase"
      ]
    },
    {
      "cell_type": "code",
      "metadata": {
        "colab": {
          "base_uri": "https://localhost:8080/",
          "height": 52
        },
        "id": "HoUOszW-J-Wr",
        "outputId": "92e53c22-24f3-4498-f113-f839b318bf1b"
      },
      "source": [
        "#Option 1\r\n",
        "def convert_lowercase_uppercase(str):\r\n",
        "    str = list(str)\r\n",
        "    for i in range(len(str)):\r\n",
        "        if str[i].islower():\r\n",
        "            str[i] = str[i].upper()\r\n",
        "        else:\r\n",
        "            str[i] = str[i].lower()\r\n",
        "    return ''.join(str)\r\n",
        "\r\n",
        "str = input()\r\n",
        "convert_lowercase_uppercase(str)"
      ],
      "execution_count": null,
      "outputs": [
        {
          "output_type": "stream",
          "text": [
            "And, when you want something, ALL THE UNIVERSE conspires in helping you to achieve it\n"
          ],
          "name": "stdout"
        },
        {
          "output_type": "execute_result",
          "data": {
            "application/vnd.google.colaboratory.intrinsic+json": {
              "type": "string"
            },
            "text/plain": [
              "'aND, WHEN YOU WANT SOMETHING, all the universe CONSPIRES IN HELPING YOU TO ACHIEVE IT'"
            ]
          },
          "metadata": {
            "tags": []
          },
          "execution_count": 41
        }
      ]
    },
    {
      "cell_type": "code",
      "metadata": {
        "colab": {
          "base_uri": "https://localhost:8080/",
          "height": 52
        },
        "id": "tqftzxZzW1CZ",
        "outputId": "b59ddafe-ca30-4e0e-ff6f-462a46d73e2d"
      },
      "source": [
        "#Option 2\r\n",
        "str = input()\r\n",
        "str.swapcase()"
      ],
      "execution_count": 40,
      "outputs": [
        {
          "output_type": "stream",
          "text": [
            "And, when you want something, ALL THE UNIVERSE conspires in helping you to achieve it\n"
          ],
          "name": "stdout"
        },
        {
          "output_type": "execute_result",
          "data": {
            "application/vnd.google.colaboratory.intrinsic+json": {
              "type": "string"
            },
            "text/plain": [
              "'aND, WHEN YOU WANT SOMETHING, all the universe CONSPIRES IN HELPING YOU TO ACHIEVE IT'"
            ]
          },
          "metadata": {
            "tags": []
          },
          "execution_count": 40
        }
      ]
    },
    {
      "cell_type": "markdown",
      "metadata": {
        "id": "569Fy81oIdbQ"
      },
      "source": [
        "**Question 6:** List the words in the string\r\n"
      ]
    },
    {
      "cell_type": "code",
      "metadata": {
        "colab": {
          "base_uri": "https://localhost:8080/"
        },
        "id": "frLEy5kaIczJ",
        "outputId": "b0cfa9a0-98e4-4ac6-fc61-3b51d67a2845"
      },
      "source": [
        "str = input()\r\n",
        "str.split()"
      ],
      "execution_count": null,
      "outputs": [
        {
          "output_type": "stream",
          "text": [
            "There are seven words in this sentence\n"
          ],
          "name": "stdout"
        },
        {
          "output_type": "execute_result",
          "data": {
            "text/plain": [
              "['There', 'are', 'seven', 'words', 'in', 'this', 'sentence']"
            ]
          },
          "metadata": {
            "tags": []
          },
          "execution_count": 7
        }
      ]
    },
    {
      "cell_type": "markdown",
      "metadata": {
        "id": "NeBQP5rfSVZl"
      },
      "source": [
        "**Question 7:** Reverse the string"
      ]
    },
    {
      "cell_type": "code",
      "metadata": {
        "id": "rutNp6u1SbqN",
        "colab": {
          "base_uri": "https://localhost:8080/",
          "height": 52
        },
        "outputId": "e9d0239a-4817-4f58-912a-1f0d87250d5e"
      },
      "source": [
        "str = input()\r\n",
        "str[::-1]"
      ],
      "execution_count": null,
      "outputs": [
        {
          "output_type": "stream",
          "text": [
            "This is a string\n"
          ],
          "name": "stdout"
        },
        {
          "output_type": "execute_result",
          "data": {
            "application/vnd.google.colaboratory.intrinsic+json": {
              "type": "string"
            },
            "text/plain": [
              "'gnirts a si sihT'"
            ]
          },
          "metadata": {
            "tags": []
          },
          "execution_count": 47
        }
      ]
    },
    {
      "cell_type": "code",
      "metadata": {
        "id": "4OW7DW_TUwJs",
        "colab": {
          "base_uri": "https://localhost:8080/"
        },
        "outputId": "e2e5f8d2-62c8-43e5-89ea-d4b84e69e379"
      },
      "source": [
        "str = input()\r\n",
        "\r\n",
        "lst = list(reversed(str))\r\n",
        "print(''.join(lst))"
      ],
      "execution_count": null,
      "outputs": [
        {
          "output_type": "stream",
          "text": [
            "This is a string\n",
            "gnirts a si sihT\n"
          ],
          "name": "stdout"
        }
      ]
    },
    {
      "cell_type": "markdown",
      "metadata": {
        "id": "XvH2Qc2FEYfa"
      },
      "source": [
        "**Question 8:** Reverse the words in a sequence"
      ]
    },
    {
      "cell_type": "code",
      "metadata": {
        "colab": {
          "base_uri": "https://localhost:8080/"
        },
        "id": "WA9vC0GjEYLU",
        "outputId": "6cc6bcd2-9224-4197-d8e8-27f303c70384"
      },
      "source": [
        "s = str(input())\r\n",
        "\r\n",
        "s = s.split(\" \")\r\n",
        "s.reverse()\r\n",
        "s = \" \".join(s)\r\n",
        "\r\n",
        "print(s)"
      ],
      "execution_count": null,
      "outputs": [
        {
          "output_type": "stream",
          "text": [
            "Python Exercises\n",
            "Exercises Python\n"
          ],
          "name": "stdout"
        }
      ]
    },
    {
      "cell_type": "markdown",
      "metadata": {
        "id": "CK3Pf1BpJeBa"
      },
      "source": [
        "**Question 9:** Check if the string is symmetrical"
      ]
    },
    {
      "cell_type": "code",
      "metadata": {
        "colab": {
          "base_uri": "https://localhost:8080/"
        },
        "id": "j3u0h2QVJdmr",
        "outputId": "fbb48c05-1f1a-4f82-ea44-2393476fae75"
      },
      "source": [
        "def is_symmetrical(str):\r\n",
        "    return True if str == str[::-1] else False\r\n",
        "\r\n",
        "str = input()\r\n",
        "is_symmetrical(str)"
      ],
      "execution_count": 15,
      "outputs": [
        {
          "output_type": "stream",
          "text": [
            "123454321\n"
          ],
          "name": "stdout"
        },
        {
          "output_type": "execute_result",
          "data": {
            "text/plain": [
              "True"
            ]
          },
          "metadata": {
            "tags": []
          },
          "execution_count": 15
        }
      ]
    },
    {
      "cell_type": "markdown",
      "metadata": {
        "id": "HGjwQ6dJL3X8"
      },
      "source": [
        "**Question 10:** Check if the string `s` is an entire number"
      ]
    },
    {
      "cell_type": "code",
      "metadata": {
        "colab": {
          "base_uri": "https://localhost:8080/"
        },
        "id": "_exLmlf7L3dP",
        "outputId": "141601ae-55dc-4aaf-8c2a-63e18f4f4d0d"
      },
      "source": [
        "str = input()\r\n",
        "str.isdigit()"
      ],
      "execution_count": 22,
      "outputs": [
        {
          "output_type": "stream",
          "text": [
            "584\n"
          ],
          "name": "stdout"
        },
        {
          "output_type": "execute_result",
          "data": {
            "text/plain": [
              "True"
            ]
          },
          "metadata": {
            "tags": []
          },
          "execution_count": 22
        }
      ]
    },
    {
      "cell_type": "markdown",
      "metadata": {
        "id": "kn3SMZrXNGj7"
      },
      "source": [
        "**Question 11:** Search to see which character appears most in the string"
      ]
    },
    {
      "cell_type": "code",
      "metadata": {
        "colab": {
          "base_uri": "https://localhost:8080/"
        },
        "id": "oFU8cEwjNGYs",
        "outputId": "3efacebd-6a63-4d06-ac29-724bb55cc5b2"
      },
      "source": [
        "def search_character_appears_most(str):\r\n",
        "    most_common_char = str[0]\r\n",
        "    max_count = str.count(str[0])\r\n",
        "    for char in str:\r\n",
        "        if(str.count(char) > max_count):\r\n",
        "            most_common_char = char\r\n",
        "            max_count = str.count(char)\r\n",
        "    return most_common_char, max_count\r\n",
        "\r\n",
        "str = input()\r\n",
        "search_character_appears_most(str)"
      ],
      "execution_count": 29,
      "outputs": [
        {
          "output_type": "stream",
          "text": [
            "abcaabca\n"
          ],
          "name": "stdout"
        },
        {
          "output_type": "execute_result",
          "data": {
            "text/plain": [
              "('a', 4)"
            ]
          },
          "metadata": {
            "tags": []
          },
          "execution_count": 29
        }
      ]
    },
    {
      "cell_type": "markdown",
      "metadata": {
        "id": "1wJ_M8lHSVzK"
      },
      "source": [
        "**Question 12:** Delete spaces to the left and right of the string s."
      ]
    },
    {
      "cell_type": "code",
      "metadata": {
        "colab": {
          "base_uri": "https://localhost:8080/"
        },
        "id": "1XOFw7LBSV5q",
        "outputId": "a269a2f7-1637-4ace-c1ff-859f7f7c6ff4"
      },
      "source": [
        "s = input()\r\n",
        "print(s.strip())"
      ],
      "execution_count": 31,
      "outputs": [
        {
          "output_type": "stream",
          "text": [
            "                            Seventy seven benevolent elephants                                  \n",
            "Seventy seven benevolent elephants\n"
          ],
          "name": "stdout"
        }
      ]
    },
    {
      "cell_type": "markdown",
      "metadata": {
        "id": "r2coetSOEFoc"
      },
      "source": [
        "**Question 13:** Write a counter function to see how many times the string `s1 ` occurs in the string `s2`"
      ]
    },
    {
      "cell_type": "code",
      "metadata": {
        "colab": {
          "base_uri": "https://localhost:8080/"
        },
        "id": "HXrCSBxSEFxt",
        "outputId": "518f292f-3bef-4461-b2d8-fb6e3eb73796"
      },
      "source": [
        "s1 = str(input())\r\n",
        "s2 = str(input())\r\n",
        "\r\n",
        "s1.count(s2)"
      ],
      "execution_count": 1,
      "outputs": [
        {
          "output_type": "stream",
          "text": [
            "The sixth sick sheik’s sixth sheep’s sick:\n",
            "sick\n"
          ],
          "name": "stdout"
        },
        {
          "output_type": "execute_result",
          "data": {
            "text/plain": [
              "2"
            ]
          },
          "metadata": {
            "tags": []
          },
          "execution_count": 1
        }
      ]
    },
    {
      "cell_type": "markdown",
      "metadata": {
        "id": "8tlWL0xDG7TV"
      },
      "source": [
        "**Question 14:** Write a function to count the number of words in the string s starting with 2 characters ‘TH’"
      ]
    },
    {
      "cell_type": "code",
      "metadata": {
        "colab": {
          "base_uri": "https://localhost:8080/"
        },
        "id": "ps_VL-x-G61U",
        "outputId": "15458382-4e98-43a3-b86a-6b6480cfd6f8"
      },
      "source": [
        "def count_words_start_with_TH(s):\r\n",
        "    count = 0\r\n",
        "    s = s.split(\" \")\r\n",
        "    for word in s:\r\n",
        "        if word.startswith('TH'):\r\n",
        "            count += 1\r\n",
        "    return count\r\n",
        "\r\n",
        "s = str(input())\r\n",
        "count_words_start_with_TH(s)"
      ],
      "execution_count": 6,
      "outputs": [
        {
          "output_type": "stream",
          "text": [
            "THere are three THs in THis sentence \n"
          ],
          "name": "stdout"
        },
        {
          "output_type": "execute_result",
          "data": {
            "text/plain": [
              "3"
            ]
          },
          "metadata": {
            "tags": []
          },
          "execution_count": 6
        }
      ]
    },
    {
      "cell_type": "markdown",
      "metadata": {
        "id": "zf_3cTIBT2IB"
      },
      "source": [
        "**Question 15:** Enter a character and delete it from the given string"
      ]
    },
    {
      "cell_type": "code",
      "metadata": {
        "colab": {
          "base_uri": "https://localhost:8080/",
          "height": 69
        },
        "id": "2iO71KcFT2O7",
        "outputId": "2633a618-016a-4ecf-e5e4-eef8bccaa499"
      },
      "source": [
        "str = input()\r\n",
        "char = input()\r\n",
        "\r\n",
        "str.replace(char, '')"
      ],
      "execution_count": 37,
      "outputs": [
        {
          "output_type": "stream",
          "text": [
            "How much wood would a woodchuck chuck if a woodchuck could chuck wood?\n",
            "o\n"
          ],
          "name": "stdout"
        },
        {
          "output_type": "execute_result",
          "data": {
            "application/vnd.google.colaboratory.intrinsic+json": {
              "type": "string"
            },
            "text/plain": [
              "'Hw much wd wuld a wdchuck chuck if a wdchuck culd chuck wd?'"
            ]
          },
          "metadata": {
            "tags": []
          },
          "execution_count": 37
        }
      ]
    },
    {
      "cell_type": "markdown",
      "metadata": {
        "id": "k6yTWpgCVxmq"
      },
      "source": [
        "**Question 16:** Enter a word and delete it from the given string"
      ]
    },
    {
      "cell_type": "code",
      "metadata": {
        "colab": {
          "base_uri": "https://localhost:8080/",
          "height": 69
        },
        "id": "4FsU72fKYRo6",
        "outputId": "ff4ee02e-7350-47b3-99fd-5c1437c55945"
      },
      "source": [
        "#Approach 1:\r\n",
        "def delete_word_in_string(str, word):\r\n",
        "    while word in str:\r\n",
        "        pos = str.index(word)\r\n",
        "        str = str[:pos] + str[(pos+ len(word)):]\r\n",
        "    return str\r\n",
        "\r\n",
        "str = input()\r\n",
        "word = input()\r\n",
        "delete_word_in_string(str, word)"
      ],
      "execution_count": 6,
      "outputs": [
        {
          "output_type": "stream",
          "text": [
            "How much wood would a woodchuck chuck if a woodchuck could chuck wood?\n",
            "wood\n"
          ],
          "name": "stdout"
        },
        {
          "output_type": "execute_result",
          "data": {
            "application/vnd.google.colaboratory.intrinsic+json": {
              "type": "string"
            },
            "text/plain": [
              "'How much  would a chuck chuck if a chuck could chuck ?'"
            ]
          },
          "metadata": {
            "tags": []
          },
          "execution_count": 6
        }
      ]
    },
    {
      "cell_type": "code",
      "metadata": {
        "colab": {
          "base_uri": "https://localhost:8080/",
          "height": 69
        },
        "id": "9YN_jSeEEMho",
        "outputId": "f78700ad-6fa9-476d-b2c9-0eb38ac8f704"
      },
      "source": [
        "#Approach 2: Do not delete compound words\r\n",
        "def delete_word_in_string(str, word_to_delete):\r\n",
        "    str = str.split(\" \")\r\n",
        "    for word in str:\r\n",
        "        if word_to_delete in word:\r\n",
        "            if word == word_to_delete:\r\n",
        "                str.remove(word)\r\n",
        "            elif ('?' in word) or (',' in word):\r\n",
        "                word_index = str.index(word)\r\n",
        "                str[word_index] = str[word_index].replace(word_to_delete, '')\r\n",
        "    str = \" \".join(str)\r\n",
        "    return str\r\n",
        "\r\n",
        "str = input()\r\n",
        "word = input()\r\n",
        "delete_word_in_string(str, word)"
      ],
      "execution_count": 32,
      "outputs": [
        {
          "output_type": "stream",
          "text": [
            "How much wood would a woodchuck chuck if a woodchuck could chuck wood?\n",
            "wood\n"
          ],
          "name": "stdout"
        },
        {
          "output_type": "execute_result",
          "data": {
            "application/vnd.google.colaboratory.intrinsic+json": {
              "type": "string"
            },
            "text/plain": [
              "'How much would a woodchuck chuck if a woodchuck could chuck ?'"
            ]
          },
          "metadata": {
            "tags": []
          },
          "execution_count": 32
        }
      ]
    },
    {
      "cell_type": "markdown",
      "metadata": {
        "id": "SEvwSQfiJXOg"
      },
      "source": [
        "**Question 17:** Change alternate letters 1 uppercase and 1 lowercase in the string"
      ]
    },
    {
      "cell_type": "code",
      "metadata": {
        "colab": {
          "base_uri": "https://localhost:8080/",
          "height": 52
        },
        "id": "vMrpUQoaJXVY",
        "outputId": "e538f58f-21c3-458f-b2b2-f498a4dda089"
      },
      "source": [
        "def interleaved_change(str):\r\n",
        "    str = list(str)\r\n",
        "    for i in range(1, len(str)):\r\n",
        "        if str[i - 1].islower():\r\n",
        "            str[i] = str[i].upper()\r\n",
        "        else:\r\n",
        "            str[i] = str[i].lower()\r\n",
        "    return ''.join(str)\r\n",
        "\r\n",
        "str = input()\r\n",
        "interleaved_change(str)"
      ],
      "execution_count": 44,
      "outputs": [
        {
          "output_type": "stream",
          "text": [
            "This is a string\n"
          ],
          "name": "stdout"
        },
        {
          "output_type": "execute_result",
          "data": {
            "application/vnd.google.colaboratory.intrinsic+json": {
              "type": "string"
            },
            "text/plain": [
              "'ThIs iS a sTrInG'"
            ]
          },
          "metadata": {
            "tags": []
          },
          "execution_count": 44
        }
      ]
    },
    {
      "cell_type": "markdown",
      "metadata": {
        "id": "MAxXZn7uT-to"
      },
      "source": [
        "# **Practise**"
      ]
    },
    {
      "cell_type": "markdown",
      "metadata": {
        "id": "oAMsxF-8APmT"
      },
      "source": [
        "**Question:** Write a program to swap the first 2 characters of the strings `s1` and `s2` together. The new string is displayed on the screen `s1 + \" \" + s2`\r\n",
        "\r\n",
        "*For example:*\r\n",
        "\r\n",
        "Input: s1 = `\"sun\"`, s2 = `\"moon\"`\r\n",
        "\r\n",
        "Output: `\"mon suon\"`"
      ]
    },
    {
      "cell_type": "code",
      "metadata": {
        "colab": {
          "base_uri": "https://localhost:8080/"
        },
        "id": "7BVbUg7cAOZt",
        "outputId": "c725cd4d-748b-4771-df78-6de4e1dfec6d"
      },
      "source": [
        "s1 = input()\r\n",
        "s2 = input()\r\n",
        "\r\n",
        "temp = s2[0:2] + s1[2:]\r\n",
        "s2 = s1[0:2] + s2[2:]\r\n",
        "\r\n",
        "print(temp + \" \" + s2)"
      ],
      "execution_count": null,
      "outputs": [
        {
          "output_type": "stream",
          "text": [
            "sun\n",
            "moon\n",
            "mon suon\n"
          ],
          "name": "stdout"
        }
      ]
    },
    {
      "cell_type": "markdown",
      "metadata": {
        "id": "Q24zqjzXXhnf"
      },
      "source": [
        "**Question:** Given a string. Print a list of words that have more than 3 characters.\r\n",
        "\r\n",
        "For example: \r\n",
        "\r\n",
        "Input: `\"CodeLearn helps you reach your goal\"`\r\n",
        "\r\n",
        "Output:` \"['CodeLearn', 'helps', 'reach', 'your', 'goal']\"`"
      ]
    },
    {
      "cell_type": "code",
      "metadata": {
        "colab": {
          "base_uri": "https://localhost:8080/"
        },
        "id": "h7tRi8_wXgsq",
        "outputId": "5d82bcf6-94d9-4d11-df9b-6aaf1a5c2c4d"
      },
      "source": [
        "str = input()\r\n",
        "str = str.split(\" \")\r\n",
        "lst = []\r\n",
        "\r\n",
        "for word in str:\r\n",
        "  if(len(word) > 3):\r\n",
        "      lst.append(word)\r\n",
        "print(lst)"
      ],
      "execution_count": null,
      "outputs": [
        {
          "output_type": "stream",
          "text": [
            "CodeLearn helps you reach your goal\n",
            "['CodeLearn', 'helps', 'reach', 'your', 'goal']\n"
          ],
          "name": "stdout"
        }
      ]
    },
    {
      "cell_type": "markdown",
      "metadata": {
        "id": "eZXNplk3Q6mM"
      },
      "source": [
        ""
      ]
    },
    {
      "cell_type": "code",
      "metadata": {
        "colab": {
          "base_uri": "https://localhost:8080/"
        },
        "id": "oXpwjuJ4Q7Lv",
        "outputId": "d8291589-8a0d-40e0-c12f-41e7b7732800"
      },
      "source": [
        "s = 'I love 2 go t0 the store 7 times a w3ek.'\r\n",
        "nums = [x for x in s if x.isnumeric()]\r\n",
        "print('nums: ' + ''.join(nums))"
      ],
      "execution_count": null,
      "outputs": [
        {
          "output_type": "stream",
          "text": [
            "nums: 2073\n"
          ],
          "name": "stdout"
        }
      ]
    },
    {
      "cell_type": "markdown",
      "metadata": {
        "id": "BS-ROZcZL6x6"
      },
      "source": [
        "References:\r\n",
        "\r\n",
        "https://github.com/joeyajames/Python/blob/master/Strings/Using%20Python%20Strings.ipynb"
      ]
    }
  ]
}
