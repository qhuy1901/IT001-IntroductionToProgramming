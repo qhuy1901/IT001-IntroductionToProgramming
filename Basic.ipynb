{
  "nbformat": 4,
  "nbformat_minor": 0,
  "metadata": {
    "colab": {
      "name": "Basic.ipynb",
      "provenance": [],
      "authorship_tag": "ABX9TyPp82TZR3Ajr493FSf3TUV0",
      "include_colab_link": true
    },
    "kernelspec": {
      "name": "python3",
      "display_name": "Python 3"
    }
  },
  "cells": [
    {
      "cell_type": "markdown",
      "metadata": {
        "id": "view-in-github",
        "colab_type": "text"
      },
      "source": [
        "<a href=\"https://colab.research.google.com/github/qhuy1901/IT001-IntroductionToProgramming/blob/main/Basic.ipynb\" target=\"_parent\"><img src=\"https://colab.research.google.com/assets/colab-badge.svg\" alt=\"Open In Colab\"/></a>"
      ]
    },
    {
      "cell_type": "markdown",
      "metadata": {
        "id": "Eun8NgvWsjmW"
      },
      "source": [
        "# **Introductory exercises**"
      ]
    },
    {
      "cell_type": "markdown",
      "metadata": {
        "id": "LhXfR30Os0PO"
      },
      "source": [
        "**Question 1:** Calculate $S (n) = 1 + 2 + 3 + ... + n$"
      ]
    },
    {
      "cell_type": "code",
      "metadata": {
        "colab": {
          "base_uri": "https://localhost:8080/"
        },
        "id": "3C3PhjTBtIFY",
        "outputId": "1f48c13a-f7d5-4d3f-c433-3803ba91d279"
      },
      "source": [
        "#Option 1\r\n",
        "n = int(input('Enter n = '))\r\n",
        "\r\n",
        "Sn = 0\r\n",
        "for i in range(1, n + 1):\r\n",
        "  Sn += i\r\n",
        "\r\n",
        "print('S(n) =', Sn)"
      ],
      "execution_count": null,
      "outputs": [
        {
          "output_type": "stream",
          "text": [
            "Enter n = 4\n",
            "S(n) = 10\n"
          ],
          "name": "stdout"
        }
      ]
    },
    {
      "cell_type": "code",
      "metadata": {
        "colab": {
          "base_uri": "https://localhost:8080/"
        },
        "id": "fGGYTsXc0IM_",
        "outputId": "5d481125-ee52-46f3-e566-da8b32926013"
      },
      "source": [
        "#Option 2: Using linear recursion\r\n",
        "n = int(input('Enter n = '))\r\n",
        "\r\n",
        "def getSum(n):\r\n",
        "    if n == 0:\r\n",
        "      return 0  #stopping condition \r\n",
        "    return getSum(n - 1) + n  #S(n) = S(n - 1) + n\r\n",
        "\r\n",
        "print('S(n) =', getSum(n))"
      ],
      "execution_count": null,
      "outputs": [
        {
          "output_type": "stream",
          "text": [
            "Enter n = 4\n",
            "S(n) = 10\n"
          ],
          "name": "stdout"
        }
      ]
    },
    {
      "cell_type": "markdown",
      "metadata": {
        "id": "HkuzAWPftf35"
      },
      "source": [
        "**Question 2:** Calculates $S(n) = 1^2 + 2^2 + 3^2 + ... + n^2$\r\n",
        "\r\n"
      ]
    },
    {
      "cell_type": "code",
      "metadata": {
        "colab": {
          "base_uri": "https://localhost:8080/"
        },
        "id": "r4PXthHmvJzA",
        "outputId": "37ba5f89-0746-4137-9c1e-337b86262b6d"
      },
      "source": [
        "n = int(input('Enter n = '))\r\n",
        "\r\n",
        "Sn = 0\r\n",
        "for i in range(1, n + 1):\r\n",
        "  Sn += i**2\r\n",
        "\r\n",
        "print(Sn)"
      ],
      "execution_count": null,
      "outputs": [
        {
          "output_type": "stream",
          "text": [
            "Enter n = 3\n",
            "14\n"
          ],
          "name": "stdout"
        }
      ]
    },
    {
      "cell_type": "markdown",
      "metadata": {
        "id": "YkQEjdrWwDDo"
      },
      "source": [
        "**Question 3:** Calculates $S(n) = 1 + 1/2 + 1/3 + ... + 1/n$"
      ]
    },
    {
      "cell_type": "code",
      "metadata": {
        "colab": {
          "base_uri": "https://localhost:8080/"
        },
        "id": "fQVo7prBwMCQ",
        "outputId": "c7d65ba6-cb3d-4327-b3f4-752b3d04d77b"
      },
      "source": [
        "n = int(input('Enter n = '))\r\n",
        "\r\n",
        "Sn = 0\r\n",
        "for i in range(1, n + 1):\r\n",
        "  Sn += 1/i\r\n",
        "\r\n",
        "print(round(Sn,2))"
      ],
      "execution_count": null,
      "outputs": [
        {
          "output_type": "stream",
          "text": [
            "Enter n = 3\n",
            "1.83\n"
          ],
          "name": "stdout"
        }
      ]
    },
    {
      "cell_type": "markdown",
      "metadata": {
        "id": "DajV5W6ZwaVG"
      },
      "source": [
        "**Question 4:** Calculates $S(n) = 1/2 + 1/4 + ... + 1/2n$"
      ]
    },
    {
      "cell_type": "code",
      "metadata": {
        "colab": {
          "base_uri": "https://localhost:8080/"
        },
        "id": "fAtIm1svv-Wf",
        "outputId": "b41b23b8-87db-48e4-ca28-61de3823375d"
      },
      "source": [
        "n = int(input('Enter n = '))\r\n",
        "\r\n",
        "Sn = 0\r\n",
        "for i in range(1, n + 1):\r\n",
        "  Sn += 1/(2*i)\r\n",
        "\r\n",
        "print('S(n) =', round(Sn,2))"
      ],
      "execution_count": null,
      "outputs": [
        {
          "output_type": "stream",
          "text": [
            "Enter n = 2\n",
            "S(n) = 0.75\n"
          ],
          "name": "stdout"
        }
      ]
    },
    {
      "cell_type": "markdown",
      "metadata": {
        "id": "uau56BSFw5A3"
      },
      "source": [
        "**Question 5:** Calculates $S(n) = 1 + 1/3 + 1/5 + … + 1/(2n + 1)$"
      ]
    },
    {
      "cell_type": "code",
      "metadata": {
        "colab": {
          "base_uri": "https://localhost:8080/"
        },
        "id": "t2uLj1QIxAYu",
        "outputId": "93c54cf4-ddf2-43f1-ae5a-2f6e58a58c09"
      },
      "source": [
        "n = int(input('Enter n = '))\r\n",
        "\r\n",
        "Sn = 0\r\n",
        "for i in range(0, n + 1):\r\n",
        "  Sn += 1 / (2 * i + 1)\r\n",
        "\r\n",
        "print('S(n) =', round(Sn, 2))"
      ],
      "execution_count": null,
      "outputs": [
        {
          "output_type": "stream",
          "text": [
            "Enter n = 3\n",
            "S(n) = 1.68\n"
          ],
          "name": "stdout"
        }
      ]
    },
    {
      "cell_type": "markdown",
      "metadata": {
        "id": "CQva2Eyex9Hm"
      },
      "source": [
        "**Question 6:** Calculates $S(n) = 1/1×2 + 1/2×3 +…+ 1/(n×(n + 1))$ "
      ]
    },
    {
      "cell_type": "code",
      "metadata": {
        "colab": {
          "base_uri": "https://localhost:8080/"
        },
        "id": "Ar7x-1dsx8jv",
        "outputId": "8ea5e506-bc5c-4b34-e740-a96b882861cb"
      },
      "source": [
        "n = int(input('Enter n = '))\r\n",
        "\r\n",
        "Sn = 0\r\n",
        "for i in range(1, n + 1):\r\n",
        "    Sn += 1 / (i * (i + 1))\r\n",
        " \r\n",
        "print('S(n) =', round(Sn, 2))"
      ],
      "execution_count": null,
      "outputs": [
        {
          "output_type": "stream",
          "text": [
            "Enter n = 3\n",
            "S(n) = 0.75\n"
          ],
          "name": "stdout"
        }
      ]
    },
    {
      "cell_type": "markdown",
      "metadata": {
        "id": "vlha1UKcCb7q"
      },
      "source": [
        "**Question 20:** List all \"divisors\" of the positive interger `n`\r\n"
      ]
    },
    {
      "cell_type": "code",
      "metadata": {
        "colab": {
          "base_uri": "https://localhost:8080/"
        },
        "id": "KUCUatpwCbis",
        "outputId": "52e3aa23-9d15-4d0d-deef-88de27f56577"
      },
      "source": [
        "def ListAllDivisors(n):\r\n",
        "      print('The divisors of n are: ',end = '')\r\n",
        "      for i in range(1, n):\r\n",
        "          if n % i == 0:\r\n",
        "            print(i, end = ' ')\r\n",
        "\r\n",
        "n = int(input('Enter n = '))\r\n",
        "ListAllDivisors(n)"
      ],
      "execution_count": 3,
      "outputs": [
        {
          "output_type": "stream",
          "text": [
            "Enter n = 6\n",
            "The divisors of n are: 1 2 3 "
          ],
          "name": "stdout"
        }
      ]
    },
    {
      "cell_type": "markdown",
      "metadata": {
        "id": "kdKEBmJi4Dc3"
      },
      "source": [
        "**Question 31:** Given a positive integer `n`. Tests if `n` is an integer prime or not?."
      ]
    },
    {
      "cell_type": "code",
      "metadata": {
        "colab": {
          "base_uri": "https://localhost:8080/"
        },
        "id": "PT3uRdza4C_3",
        "outputId": "8c9b36dc-e580-423e-fd3d-19a2c911e5a0"
      },
      "source": [
        "#Option 1\r\n",
        "def isPrime(n):\r\n",
        "    if n < 2:\r\n",
        "        return False\r\n",
        "    for i in range(2, n):\r\n",
        "        if n % i == 0:\r\n",
        "            return False\r\n",
        "    return True\r\n",
        "\r\n",
        "n = int(input('Enter n = '))\r\n",
        "print(isPrime(n))"
      ],
      "execution_count": null,
      "outputs": [
        {
          "output_type": "stream",
          "text": [
            "Enter n = 11\n",
            "True\n"
          ],
          "name": "stdout"
        }
      ]
    },
    {
      "cell_type": "code",
      "metadata": {
        "colab": {
          "base_uri": "https://localhost:8080/"
        },
        "id": "CvfCLg-o5q-J",
        "outputId": "4083a0e5-346f-4ffc-8c3f-0fe581e815c4"
      },
      "source": [
        "#Option 2: \r\n",
        "def is_prime(n):\r\n",
        "    count = 0\r\n",
        "    for i in range(1, n + 1):\r\n",
        "        if n % i == 0:\r\n",
        "            count += 1\r\n",
        "    if count == 2:\r\n",
        "        return True\r\n",
        "    return False\r\n",
        "\r\n",
        "n = int(input())\r\n",
        "print(is_prime(n))"
      ],
      "execution_count": null,
      "outputs": [
        {
          "output_type": "stream",
          "text": [
            "11\n",
            "True\n"
          ],
          "name": "stdout"
        }
      ]
    },
    {
      "cell_type": "markdown",
      "metadata": {
        "id": "oTAG3q_72LHu"
      },
      "source": [
        "**Question 62:** Given 2 positive integers a and b. Find *the greatest common divisor (gcd)* of these 2 numbers."
      ]
    },
    {
      "cell_type": "code",
      "metadata": {
        "colab": {
          "base_uri": "https://localhost:8080/"
        },
        "id": "m5E6hvPJ2Eqm",
        "outputId": "d71c7f10-4cd4-4677-dd2d-d48b9a371604"
      },
      "source": [
        "#Option 1:\r\n",
        "a = int(input())\r\n",
        "b = int(input())\r\n",
        "\r\n",
        "def gcd(a,b):\r\n",
        "    while(a * b != 0):\r\n",
        "        if(a > b):\r\n",
        "            a = a - b\r\n",
        "        else:\r\n",
        "            b = b - a\r\n",
        "    return a + b\r\n",
        "\r\n",
        "print(gcd(a,b))"
      ],
      "execution_count": null,
      "outputs": [
        {
          "output_type": "stream",
          "text": [
            "16\n",
            "22\n",
            "2\n"
          ],
          "name": "stdout"
        }
      ]
    },
    {
      "cell_type": "code",
      "metadata": {
        "colab": {
          "base_uri": "https://localhost:8080/"
        },
        "id": "XTn5Lrv5387m",
        "outputId": "8c319ed0-d8fa-4aec-f989-d827ad32e772"
      },
      "source": [
        "#Option 2: Use recursion\r\n",
        "a = int(input())\r\n",
        "b = int(input())\r\n",
        "\r\n",
        "def gcd(a,b):\r\n",
        "    if b == 0:\r\n",
        "        return a\r\n",
        "    return gcd(b, a%b)\r\n",
        "    \r\n",
        "print(gcd(a,b))"
      ],
      "execution_count": null,
      "outputs": [
        {
          "output_type": "stream",
          "text": [
            "13\n",
            "8\n",
            "1\n"
          ],
          "name": "stdout"
        }
      ]
    },
    {
      "cell_type": "code",
      "metadata": {
        "colab": {
          "base_uri": "https://localhost:8080/"
        },
        "id": "Fe0w_u1U4rE0",
        "outputId": "88c64199-422b-48ec-86d0-c26214814d72"
      },
      "source": [
        "#Option 3: Use math library\r\n",
        "import math\r\n",
        "a = int(input())\r\n",
        "b = int(input())\r\n",
        "\r\n",
        "print(math.gcd(a,b))"
      ],
      "execution_count": null,
      "outputs": [
        {
          "output_type": "stream",
          "text": [
            "4\n",
            "80\n",
            "4\n"
          ],
          "name": "stdout"
        }
      ]
    }
  ]
}